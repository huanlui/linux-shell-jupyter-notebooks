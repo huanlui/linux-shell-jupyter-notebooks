{
 "cells": [
  {
   "cell_type": "markdown",
   "metadata": {},
   "source": [
    "#  Sed command"
   ]
  },
  {
   "cell_type": "markdown",
   "metadata": {},
   "source": [
    "Stream editor for filtering and transforming text. It has soooo many options..."
   ]
  },
  {
   "cell_type": "markdown",
   "metadata": {},
   "source": [
    "## s: Substitute command. \n"
   ]
  },
  {
   "cell_type": "markdown",
   "metadata": {},
   "source": [
    "* after substitute command we define a delimiter. “/” by convention but can be changed!!!  \n",
    "* _day_ Regular Expression Pattern Search Pattern\n",
    "* _night_: Replacement string"
   ]
  },
  {
   "cell_type": "code",
   "execution_count": 78,
   "metadata": {},
   "outputs": [
    {
     "name": "stdout",
     "output_type": "stream",
     "text": [
      "Sunnight\r\n"
     ]
    }
   ],
   "source": [
    "! echo Sunday | sed 's/day/night/'"
   ]
  },
  {
   "cell_type": "code",
   "execution_count": 79,
   "metadata": {},
   "outputs": [
    {
     "name": "stdout",
     "output_type": "stream",
     "text": [
      "Sunnight\r\n"
     ]
    }
   ],
   "source": [
    "! echo Sunday | sed 's*day*night*'"
   ]
  },
  {
   "cell_type": "code",
   "execution_count": 80,
   "metadata": {},
   "outputs": [
    {
     "name": "stdout",
     "output_type": "stream",
     "text": [
      "S2und4y3\r\n"
     ]
    }
   ],
   "source": [
    "! echo 1S2und4y3 | sed 's/[1-3]//'"
   ]
  },
  {
   "cell_type": "markdown",
   "metadata": {},
   "source": [
    "* Note that it only replaced first ocurrence by LINE. \n",
    "\n",
    "Let's see another example (with several lines) where only first ocurrence BY LINE is substituted"
   ]
  },
  {
   "cell_type": "code",
   "execution_count": 81,
   "metadata": {},
   "outputs": [
    {
     "name": "stdout",
     "output_type": "stream",
     "text": [
      "camión casa \r\n",
      "camión casa\r\n"
     ]
    }
   ],
   "source": [
    "! echo \"casa casa \\ncasa casa\" | sed 's/casa/camión/'"
   ]
  },
  {
   "cell_type": "markdown",
   "metadata": {},
   "source": [
    "* Now let's substitute it globally "
   ]
  },
  {
   "cell_type": "code",
   "execution_count": 82,
   "metadata": {},
   "outputs": [
    {
     "name": "stdout",
     "output_type": "stream",
     "text": [
      "camión camión \r\n",
      "camión camión\r\n"
     ]
    }
   ],
   "source": [
    "! echo \"casa casa \\ncasa casa\" | sed 's/casa/camión/g'"
   ]
  },
  {
   "cell_type": "markdown",
   "metadata": {},
   "source": [
    "* -I is for case insensitive"
   ]
  },
  {
   "cell_type": "code",
   "execution_count": 83,
   "metadata": {},
   "outputs": [
    {
     "name": "stdout",
     "output_type": "stream",
     "text": [
      "camión camión camión\r\n"
     ]
    }
   ],
   "source": [
    "! echo \"casa CasA CASA\" | sed 's/casa/camión/gI'"
   ]
  },
  {
   "cell_type": "markdown",
   "metadata": {},
   "source": [
    "* -i to edit file \"in place\". That is, the original file is modified. Be careful!"
   ]
  },
  {
   "cell_type": "code",
   "execution_count": 84,
   "metadata": {},
   "outputs": [
    {
     "name": "stdout",
     "output_type": "stream",
     "text": [
      "camión\r\n"
     ]
    }
   ],
   "source": [
    "!rm -f casa.txt\n",
    "! echo \"casa\" > casa.txt\n",
    "\n",
    "! sed -i 's/casa/camión/' casa.txt\n",
    "\n",
    "! cat casa.txt\n",
    "\n",
    "!rm -f casa.txt"
   ]
  },
  {
   "cell_type": "markdown",
   "metadata": {},
   "source": [
    "##  p: Print command (by index)"
   ]
  },
  {
   "cell_type": "markdown",
   "metadata": {},
   "source": [
    "* With Np option, Nth line is printed. The rest of the lines (including the Nth one) are printed normally"
   ]
  },
  {
   "cell_type": "code",
   "execution_count": 85,
   "metadata": {},
   "outputs": [
    {
     "name": "stdout",
     "output_type": "stream",
     "text": [
      "first\r\n",
      "second\r\n",
      "third\r\n",
      "third\r\n",
      "fourth\r\n",
      "fifth\r\n"
     ]
    }
   ],
   "source": [
    "! echo \"first\\nsecond\\nthird\\nfourth\\nfifth\" | sed '3p'"
   ]
  },
  {
   "cell_type": "markdown",
   "metadata": {},
   "source": [
    "* With -n, the rest of the lines (including the Nth one) are not printed. Summarizingm, this command would print line 2"
   ]
  },
  {
   "cell_type": "code",
   "execution_count": 86,
   "metadata": {},
   "outputs": [
    {
     "name": "stdout",
     "output_type": "stream",
     "text": [
      "second\r\n"
     ]
    }
   ],
   "source": [
    "! echo \"first\\nsecond\\nthird\\nfourth\\nfifth\" | sed -n '2p'"
   ]
  },
  {
   "cell_type": "markdown",
   "metadata": {},
   "source": [
    "* !n reverses the restriction"
   ]
  },
  {
   "cell_type": "code",
   "execution_count": 87,
   "metadata": {},
   "outputs": [
    {
     "name": "stdout",
     "output_type": "stream",
     "text": [
      "first\r\n",
      "third\r\n",
      "fourth\r\n",
      "fifth\r\n"
     ]
    }
   ],
   "source": [
    "! echo \"first\\nsecond\\nthird\\nfourth\\nfifth\"  | sed -n '2!p'"
   ]
  },
  {
   "cell_type": "markdown",
   "metadata": {},
   "source": [
    "* Several lines can be commanded. Note tha 2,4 is FROM 2 TO 4 INCLUDING 3"
   ]
  },
  {
   "cell_type": "code",
   "execution_count": 88,
   "metadata": {},
   "outputs": [
    {
     "name": "stdout",
     "output_type": "stream",
     "text": [
      "second\r\n",
      "third\r\n",
      "fourth\r\n"
     ]
    }
   ],
   "source": [
    "! echo \"first\\nsecond\\nthird\\nfourth\\nfifth\" | sed -n '2,4p'"
   ]
  },
  {
   "cell_type": "code",
   "execution_count": 89,
   "metadata": {},
   "outputs": [
    {
     "name": "stdout",
     "output_type": "stream",
     "text": [
      "first\r\n",
      "fifth\r\n"
     ]
    }
   ],
   "source": [
    "! echo \"first\\nsecond\\nthird\\nfourth\\nfifth\"  | sed -n '2,4!p'"
   ]
  },
  {
   "cell_type": "markdown",
   "metadata": {},
   "source": [
    "* To print individual lines with _;_"
   ]
  },
  {
   "cell_type": "code",
   "execution_count": 90,
   "metadata": {},
   "outputs": [
    {
     "name": "stdout",
     "output_type": "stream",
     "text": [
      "second\r\n",
      "fourth\r\n"
     ]
    }
   ],
   "source": [
    "! echo \"first\\nsecond\\nthird\\nfourth\\nfifth\"  | sed -n '2p;4p'"
   ]
  },
  {
   "cell_type": "markdown",
   "metadata": {},
   "source": [
    "## d: Delete command (by index)\n",
    "\n",
    "To delete a line"
   ]
  },
  {
   "cell_type": "markdown",
   "metadata": {},
   "source": [
    "* Delete lines 2 and 4"
   ]
  },
  {
   "cell_type": "code",
   "execution_count": 91,
   "metadata": {},
   "outputs": [
    {
     "name": "stdout",
     "output_type": "stream",
     "text": [
      "first\r\n",
      "third\r\n",
      "fifth\r\n"
     ]
    }
   ],
   "source": [
    "! echo \"first\\nsecond\\nthird\\nfourth\\nfifth\"  | sed '2d;4d'"
   ]
  },
  {
   "cell_type": "markdown",
   "metadata": {},
   "source": [
    "* If "
   ]
  },
  {
   "cell_type": "code",
   "execution_count": 95,
   "metadata": {},
   "outputs": [
    {
     "name": "stdout",
     "output_type": "stream",
     "text": [
      "first\r\n",
      "second\r\n",
      "third\r\n",
      "fourth\r\n",
      "fifth\r\n",
      "6\r\n",
      "7\r\n",
      "8\r\n",
      "9\r\n"
     ]
    }
   ],
   "source": [
    "! echo \"first\\nsecond\\nthird\\nfourth\\nfifth\\n6\\n7\\n8\\n9\\nFile number ten\"  | sed '10d'"
   ]
  },
  {
   "cell_type": "markdown",
   "metadata": {},
   "source": [
    "## Delete and print by content"
   ]
  },
  {
   "cell_type": "code",
   "execution_count": 96,
   "metadata": {},
   "outputs": [
    {
     "name": "stdout",
     "output_type": "stream",
     "text": [
      "first\r\n",
      "second\r\n",
      "third\r\n",
      "fourth\r\n",
      "fifth\r\n",
      "6\r\n",
      "7\r\n",
      "8\r\n",
      "9\r\n"
     ]
    }
   ],
   "source": [
    "! echo \"first\\nsecond\\nthird\\nfourth\\nfifth\\n6\\n7\\n8\\n9\\nFile number ten\"  | sed '/ten/d'"
   ]
  },
  {
   "cell_type": "code",
   "execution_count": 97,
   "metadata": {},
   "outputs": [
    {
     "name": "stdout",
     "output_type": "stream",
     "text": [
      "File number ten\r\n"
     ]
    }
   ],
   "source": [
    "! echo \"first\\nsecond\\nthird\\nfourth\\nfifth\\n6\\n7\\n8\\n9\\nFile number ten\"  | sed -n '/ten/p'"
   ]
  },
  {
   "cell_type": "markdown",
   "metadata": {},
   "source": [
    "## Exercises\n",
    "\n",
    "Use Text_example.txt"
   ]
  },
  {
   "cell_type": "code",
   "execution_count": 99,
   "metadata": {},
   "outputs": [
    {
     "name": "stdout",
     "output_type": "stream",
     "text": [
      "/home/dsc/Data/shell\n"
     ]
    }
   ],
   "source": [
    "% cd ~/Data/shell"
   ]
  },
  {
   "cell_type": "markdown",
   "metadata": {},
   "source": [
    "* Replace every “line” with new line character (“\\n”)"
   ]
  },
  {
   "cell_type": "code",
   "execution_count": 101,
   "metadata": {},
   "outputs": [
    {
     "name": "stdout",
     "output_type": "stream",
     "text": [
      "THIS LINE IS THE 1ST UPPER CASE LINE IN THIS FILE.\r",
      "\r\n",
      "this \r\n",
      " is the 1st lower case \r\n",
      " in this file.\r",
      "\r\n",
      "This Line Has All Its First Character Of The Word With Upper Case.\r",
      "\r\n",
      "\r",
      "\r\n",
      "\r",
      "\r\n",
      "Two \r\n",
      "s above this are empty.\r",
      "\r\n",
      "And this is the last \r\n",
      ".\r",
      "\r\n"
     ]
    }
   ],
   "source": [
    "! sed 's/line/\\n/g' Text_example.txt"
   ]
  },
  {
   "cell_type": "markdown",
   "metadata": {},
   "source": [
    "* Delete lines that contain the “line” word."
   ]
  },
  {
   "cell_type": "code",
   "execution_count": 102,
   "metadata": {},
   "outputs": [
    {
     "name": "stdout",
     "output_type": "stream",
     "text": [
      "THIS LINE IS THE 1ST UPPER CASE LINE IN THIS FILE.\r",
      "\r\n",
      "This Line Has All Its First Character Of The Word With Upper Case.\r",
      "\r\n",
      "\r",
      "\r\n",
      "\r",
      "\r\n"
     ]
    }
   ],
   "source": [
    "! sed '/line/d' Text_example.txt"
   ]
  },
  {
   "cell_type": "markdown",
   "metadata": {},
   "source": [
    "* Print ONLY the lines that DON’T contain the “line” word"
   ]
  },
  {
   "cell_type": "code",
   "execution_count": 104,
   "metadata": {},
   "outputs": [
    {
     "name": "stdout",
     "output_type": "stream",
     "text": [
      "THIS LINE IS THE 1ST UPPER CASE LINE IN THIS FILE.\r",
      "\r\n",
      "This Line Has All Its First Character Of The Word With Upper Case.\r",
      "\r\n",
      "\r",
      "\r\n",
      "\r",
      "\r\n"
     ]
    }
   ],
   "source": [
    "! sed -n '/line/!p' Text_example.txt"
   ]
  },
  {
   "cell_type": "markdown",
   "metadata": {},
   "source": [
    "<div style=\"text-align:right\">\n",
    "Juan Luis García López (@huanlui)\n",
    "<a href=\"https://github.com/huanlui\" class=\"fa fa-github\"> Github </a>\n",
    "<a href=\"https://twitter.com/huanlui\" class=\"fa fa-twitter\"> Twitter </a>\n",
    "<a href=\"https://www.linkedin.com/in/juan-luis-garcía-lópez-99057138\" class=\"fa fa-linkedin\"> Linkedin </a>\n",
    "<div>\n",
    "   \n",
    "<div>"
   ]
  }
 ],
 "metadata": {
  "kernelspec": {
   "display_name": "Python 3",
   "language": "python",
   "name": "python3"
  },
  "language_info": {
   "codemirror_mode": {
    "name": "ipython",
    "version": 3
   },
   "file_extension": ".py",
   "mimetype": "text/x-python",
   "name": "python",
   "nbconvert_exporter": "python",
   "pygments_lexer": "ipython3",
   "version": "3.6.4"
  }
 },
 "nbformat": 4,
 "nbformat_minor": 2
}
