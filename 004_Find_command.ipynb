{
 "cells": [
  {
   "cell_type": "markdown",
   "metadata": {},
   "source": [
    "# _Find_ command"
   ]
  },
  {
   "cell_type": "markdown",
   "metadata": {},
   "source": [
    "Let's explain use of command _find_. It has lots of options."
   ]
  },
  {
   "cell_type": "markdown",
   "metadata": {},
   "source": [
    "##  Examples"
   ]
  },
  {
   "cell_type": "markdown",
   "metadata": {},
   "source": [
    "* Find all files with a name exactly equal to Finn.txt"
   ]
  },
  {
   "cell_type": "code",
   "execution_count": 52,
   "metadata": {},
   "outputs": [
    {
     "name": "stdout",
     "output_type": "stream",
     "text": [
      "/home/dsc/Data\n",
      "./shell/Finn.txt\r\n"
     ]
    }
   ],
   "source": [
    "% cd ~/Data\n",
    "\n",
    "! find -name \"Finn.txt\""
   ]
  },
  {
   "cell_type": "markdown",
   "metadata": {},
   "source": [
    "* Find all files with extension _.txt_. Note than an extension is just a part of the file name. We use wildcard (*)."
   ]
  },
  {
   "cell_type": "code",
   "execution_count": 53,
   "metadata": {},
   "outputs": [
    {
     "name": "stdout",
     "output_type": "stream",
     "text": [
      "/home/dsc/Data\n",
      "./us_dot/otp/last_20.txt\r\n",
      "./shell/con_lineas.txt\r\n",
      "./shell/Text_4sed.txt\r\n",
      "./shell/Finn.txt\r\n",
      "./shell/Text_example.txt\r\n",
      "./shell/Text_twice.txt\r\n"
     ]
    }
   ],
   "source": [
    "% cd ~/Data\n",
    "\n",
    "! find -name \"*.txt\""
   ]
  },
  {
   "cell_type": "markdown",
   "metadata": {},
   "source": [
    "* Find all files with extension _.txt_ inside shell. "
   ]
  },
  {
   "cell_type": "code",
   "execution_count": 54,
   "metadata": {},
   "outputs": [
    {
     "name": "stdout",
     "output_type": "stream",
     "text": [
      "/home/dsc/Data\n",
      "./shell/con_lineas.txt\r\n",
      "./shell/Text_4sed.txt\r\n",
      "./shell/Finn.txt\r\n",
      "./shell/Text_example.txt\r\n",
      "./shell/Text_twice.txt\r\n"
     ]
    }
   ],
   "source": [
    "% cd ~/Data\n",
    "\n",
    "! find ./shell -name \"*.txt\""
   ]
  },
  {
   "cell_type": "markdown",
   "metadata": {},
   "source": [
    "* Find case-insensitive"
   ]
  },
  {
   "cell_type": "code",
   "execution_count": 55,
   "metadata": {},
   "outputs": [
    {
     "name": "stdout",
     "output_type": "stream",
     "text": [
      "/home/dsc/Data\n",
      "./us_dot/otp/last_20.txt\r\n",
      "./shell/con_lineas.txt\r\n",
      "./shell/Text_4sed.txt\r\n",
      "./shell/Finn.txt\r\n",
      "./shell/Text_example.txt\r\n",
      "./shell/Text_twice.txt\r\n"
     ]
    }
   ],
   "source": [
    "% cd ~/Data\n",
    "\n",
    "! find -iname \"*.tXT\" "
   ]
  },
  {
   "cell_type": "markdown",
   "metadata": {},
   "source": [
    "* Find files greater than 1000 KB"
   ]
  },
  {
   "cell_type": "code",
   "execution_count": 56,
   "metadata": {},
   "outputs": [
    {
     "name": "stdout",
     "output_type": "stream",
     "text": [
      "/home/dsc/Data\n",
      "./challenge/searches.csv.bz2\r\n",
      "./challenge/bookings.csv.bz2\r\n",
      "./airline_tickets/data.tar.bz2\r\n",
      "./airline_tickets/sales_segments.csv.gz\r\n",
      "./us_dot/otp/On_Time_On_Time_Performance_2015_2.zip\r\n",
      "./us_dot/otp/On_Time_On_Time_Performance_2015_8.zip\r\n",
      "./us_dot/otp/On_Time_On_Time_Performance_2015_4.zip\r\n",
      "./us_dot/otp/On_Time_On_Time_Performance_2015_3.zip\r\n",
      "./us_dot/otp/On_Time_On_Time_Performance_2015_7.zip\r\n",
      "./us_dot/otp/On_Time_On_Time_Performance_2015_1.zip\r\n",
      "./us_dot/otp/On_Time_On_Time_Performance_2015_6.zip\r\n",
      "./us_dot/otp/On_Time_On_Time_Performance_2015_5.zip\r\n",
      "./us_dot/traffic/T100_SEGMENT_ALL_CARRIER_2015.zip\r\n",
      "./us_dot/traffic/T100_SEGMENT_ALL_CARRIER_2014.zip\r\n",
      "./opentraveldata/optd_por_public.csv\r\n",
      "./opentraveldata/opentravel.gz.tar\r\n"
     ]
    }
   ],
   "source": [
    "% cd ~/Data\n",
    "\n",
    "! find -size +1000k"
   ]
  },
  {
   "cell_type": "markdown",
   "metadata": {},
   "source": [
    "* Find files lower than 1000 KB"
   ]
  },
  {
   "cell_type": "code",
   "execution_count": 57,
   "metadata": {},
   "outputs": [
    {
     "name": "stdout",
     "output_type": "stream",
     "text": [
      "/home/dsc/Data\n",
      ".\r\n",
      "./challenge\r\n",
      "./airline_tickets\r\n",
      "./README.md\r\n",
      "./us_dot\r\n",
      "./us_dot/otp\r\n",
      "./us_dot/otp/last_20.txt\r\n",
      "./us_dot/traffic\r\n",
      "./shell\r\n",
      "./shell/zippped.zip\r\n",
      "./shell/pruebas_sql\r\n",
      "./shell/con_lineas.txt\r\n",
      "./shell/Text_4sed.txt\r\n",
      "./shell/Finn.txt\r\n",
      "./shell/miscolumnas.vsc\r\n",
      "./shell/Text_example.txt\r\n",
      "./shell/Text_twice.txt\r\n",
      "./shell/numbers\r\n",
      "./shell/column_name_number.sh\r\n",
      "./opentraveldata\r\n",
      "./opentraveldata/optd_airlines.csv\r\n",
      "./opentraveldata/Nofokker.csv\r\n",
      "./opentraveldata/fokker.csv\r\n",
      "./opentraveldata/optd_aircraft_con_comas_con_csvformat.csv\r\n",
      "./opentraveldata/ref_airline_nb_of_flights.csv\r\n",
      "./opentraveldata/optd_cabecera\r\n",
      "./opentraveldata/optd_aircraft.sql\r\n",
      "./opentraveldata/optd_aircraft.csv\r\n",
      "./opentraveldata/prueba\r\n",
      "./opentraveldata/optd_aircraft_comma.csv\r\n"
     ]
    }
   ],
   "source": [
    "% cd ~/Data\n",
    "\n",
    "! find -size -1000k"
   ]
  },
  {
   "cell_type": "markdown",
   "metadata": {},
   "source": [
    "* Find ONLY files lower than 1000 KB"
   ]
  },
  {
   "cell_type": "code",
   "execution_count": 58,
   "metadata": {},
   "outputs": [
    {
     "name": "stdout",
     "output_type": "stream",
     "text": [
      "/home/dsc/Data\n",
      "./README.md\r\n",
      "./us_dot/otp/last_20.txt\r\n",
      "./shell/zippped.zip\r\n",
      "./shell/con_lineas.txt\r\n",
      "./shell/Text_4sed.txt\r\n",
      "./shell/Finn.txt\r\n",
      "./shell/miscolumnas.vsc\r\n",
      "./shell/Text_example.txt\r\n",
      "./shell/Text_twice.txt\r\n",
      "./shell/numbers\r\n",
      "./shell/column_name_number.sh\r\n",
      "./opentraveldata/optd_airlines.csv\r\n",
      "./opentraveldata/Nofokker.csv\r\n",
      "./opentraveldata/fokker.csv\r\n",
      "./opentraveldata/optd_aircraft_con_comas_con_csvformat.csv\r\n",
      "./opentraveldata/ref_airline_nb_of_flights.csv\r\n",
      "./opentraveldata/optd_cabecera\r\n",
      "./opentraveldata/optd_aircraft.sql\r\n",
      "./opentraveldata/optd_aircraft.csv\r\n",
      "./opentraveldata/optd_aircraft_comma.csv\r\n"
     ]
    }
   ],
   "source": [
    "% cd ~/Data\n",
    "\n",
    "! find -type f -size -1000k"
   ]
  },
  {
   "cell_type": "markdown",
   "metadata": {},
   "source": [
    "* Find only folders"
   ]
  },
  {
   "cell_type": "code",
   "execution_count": 59,
   "metadata": {},
   "outputs": [
    {
     "name": "stdout",
     "output_type": "stream",
     "text": [
      "/home/dsc/Data\n",
      "./opentraveldata\r\n"
     ]
    }
   ],
   "source": [
    "% cd ~/Data\n",
    "\n",
    "! find -type d -name \"*op*\""
   ]
  },
  {
   "cell_type": "markdown",
   "metadata": {},
   "source": [
    "* Use -not to invert the match. Note that -not only affects to the next filter"
   ]
  },
  {
   "cell_type": "code",
   "execution_count": 60,
   "metadata": {},
   "outputs": [
    {
     "name": "stdout",
     "output_type": "stream",
     "text": [
      "/home/dsc/Data\n",
      ".\r\n",
      "./challenge\r\n",
      "./airline_tickets\r\n",
      "./us_dot\r\n",
      "./us_dot/otp\r\n",
      "./us_dot/traffic\r\n",
      "./shell\r\n",
      "./shell/pruebas_sql\r\n",
      "./opentraveldata/prueba\r\n"
     ]
    }
   ],
   "source": [
    "% cd ~/Data\n",
    "\n",
    "! find -not -name \"*op*\" -type d "
   ]
  },
  {
   "cell_type": "markdown",
   "metadata": {},
   "source": [
    "* Find according permissions. Example: find files with all the permissions. For help, execute ```man chmod``` from shell"
   ]
  },
  {
   "cell_type": "code",
   "execution_count": 61,
   "metadata": {},
   "outputs": [
    {
     "name": "stdout",
     "output_type": "stream",
     "text": [
      "/home/dsc/Data\n",
      "./shell/Text_example.txt\r\n",
      "./shell/column_name_number.sh\r\n"
     ]
    }
   ],
   "source": [
    "% cd ~/Data\n",
    "\n",
    "! find -perm 777"
   ]
  },
  {
   "cell_type": "markdown",
   "metadata": {},
   "source": [
    "* Find only in this folder. Use -maxdepth.  b"
   ]
  },
  {
   "cell_type": "code",
   "execution_count": 62,
   "metadata": {},
   "outputs": [
    {
     "name": "stdout",
     "output_type": "stream",
     "text": [
      "/home/dsc/Data\n",
      "./challenge\r\n",
      "./airline_tickets\r\n",
      "./shell\r\n",
      "./opentraveldata\r\n"
     ]
    }
   ],
   "source": [
    "% cd ~/Data\n",
    "\n",
    "! find  -maxdepth 1  -type d -name \"*e*\"\n"
   ]
  },
  {
   "cell_type": "markdown",
   "metadata": {},
   "source": [
    "* Execute an action for each found file. Example, count lines"
   ]
  },
  {
   "cell_type": "code",
   "execution_count": 63,
   "metadata": {},
   "outputs": [
    {
     "name": "stdout",
     "output_type": "stream",
     "text": [
      "/home/dsc/Data\n",
      "20 ./us_dot/otp/last_20.txt\r\n",
      "7 ./shell/con_lineas.txt\r\n",
      "7 ./shell/Text_4sed.txt\r\n",
      "12363 ./shell/Finn.txt\r\n",
      "7 ./shell/Text_example.txt\r\n",
      "14 ./shell/Text_twice.txt\r\n"
     ]
    }
   ],
   "source": [
    "% cd ~/Data\n",
    "\n",
    "! find -name \"*.txt\" -exec wc -l {} \\;"
   ]
  },
  {
   "cell_type": "markdown",
   "metadata": {},
   "source": [
    "Note that file name is represented by {}. In addition, we must add \"\\;\" to the end of the command"
   ]
  },
  {
   "cell_type": "markdown",
   "metadata": {},
   "source": [
    "* If finish the command with _+_ instead of _\\n_, the command is executed once with the aggregated result"
   ]
  },
  {
   "cell_type": "code",
   "execution_count": 64,
   "metadata": {},
   "outputs": [
    {
     "name": "stdout",
     "output_type": "stream",
     "text": [
      "/home/dsc/Data\n",
      "    20 ./us_dot/otp/last_20.txt\r\n",
      "     7 ./shell/con_lineas.txt\r\n",
      "     7 ./shell/Text_4sed.txt\r\n",
      " 12363 ./shell/Finn.txt\r\n",
      "     7 ./shell/Text_example.txt\r\n",
      "    14 ./shell/Text_twice.txt\r\n",
      " 12418 total\r\n"
     ]
    }
   ],
   "source": [
    "% cd ~/Data\n",
    "\n",
    "! find -name \"*.txt\" -exec wc -l {} +"
   ]
  },
  {
   "cell_type": "markdown",
   "metadata": {},
   "source": [
    "## Exercises"
   ]
  },
  {
   "cell_type": "markdown",
   "metadata": {},
   "source": [
    "* Find all files located ONLY inside subdirectories of your home directory which have been modified in last 2min"
   ]
  },
  {
   "cell_type": "code",
   "execution_count": 65,
   "metadata": {},
   "outputs": [
    {
     "name": "stdout",
     "output_type": "stream",
     "text": [
      "/home/dsc\n",
      "./Repos/linux-shell-jupyter-notebooks\n",
      "./Repos/linux-shell-jupyter-notebooks/004_Find_command.ipynb\n",
      "./Repos/linux-shell-jupyter-notebooks/.ipynb_checkpoints/004_Find_command-checkpoint.ipynb\n",
      "./.config/libreoffice/4/user\n",
      "./.config/libreoffice/4/user/registrymodifications.xcu\n",
      "./.config/google-chrome\n",
      "./.config/google-chrome/BrowserMetrics/BrowserMetrics-5C0BA023-622.pma\n",
      "./.config/google-chrome/Local State\n",
      "./.config/google-chrome/Default\n",
      "./.config/google-chrome/Default/QuotaManager-journal\n",
      "./.config/google-chrome/Default/Shortcuts-journal\n",
      "./.config/google-chrome/Default/TransportSecurity\n",
      "./.config/google-chrome/Default/IndexedDB/https_www.google.es_0.indexeddb.leveldb\n",
      "./.config/google-chrome/Default/IndexedDB/https_www.google.es_0.indexeddb.leveldb/LOG\n",
      "./.config/google-chrome/Default/IndexedDB/https_www.google.es_0.indexeddb.leveldb/000003.log\n",
      "./.config/google-chrome/Default/Current Session\n",
      "./.config/google-chrome/Default/Local Extension Settings/cfhdojbkjhnklbpkdaibdccddilifddb/000097.log\n",
      "./.config/google-chrome/Default/Local Extension Settings/ndjpnladcallmjemlbaebfadecfhkepb/000003.log\n",
      "./.config/google-chrome/Default/Cookies\n",
      "./.config/google-chrome/Default/QuotaManager\n",
      "./.config/google-chrome/Default/Network Action Predictor-journal\n",
      "./.config/google-chrome/Default/Sync Data/SyncData.sqlite3-journal\n",
      "./.config/google-chrome/Default/Sync Data/SyncData.sqlite3\n",
      "./.config/google-chrome/Default/Sync Data/LevelDB/000015.log\n",
      "./.config/google-chrome/Default/Cookies-journal\n",
      "./.config/google-chrome/Default/Session Storage/000015.log\n",
      "./.config/google-chrome/Default/Favicons-journal\n",
      "./.config/google-chrome/Default/History-journal\n",
      "./.config/google-chrome/Default/Visited Links\n",
      "./.config/google-chrome/Default/Favicons\n",
      "./.config/google-chrome/Default/GCM Store/000003.log\n",
      "./.config/google-chrome/Default/Network Persistent State\n",
      "./.config/google-chrome/Default/Web Data\n",
      "./.config/google-chrome/Default/Preferences\n",
      "./.config/google-chrome/Default/History\n",
      "./.config/google-chrome/Default/Service Worker/CacheStorage/63afbc5f01a8adb72f77c7797a97824ba4adf66b\n",
      "./.config/google-chrome/Default/Service Worker/CacheStorage/63afbc5f01a8adb72f77c7797a97824ba4adf66b/81606999-6204-4acd-9251-a2cfd8c9ae3d/index-dir\n",
      "./.config/google-chrome/Default/Service Worker/CacheStorage/63afbc5f01a8adb72f77c7797a97824ba4adf66b/81606999-6204-4acd-9251-a2cfd8c9ae3d/index-dir/the-real-index\n",
      "./.config/google-chrome/Default/Service Worker/CacheStorage/63afbc5f01a8adb72f77c7797a97824ba4adf66b/index.txt\n",
      "./.config/google-chrome/Default/Service Worker/ScriptCache/index-dir\n",
      "./.config/google-chrome/Default/Service Worker/ScriptCache/index-dir/the-real-index\n",
      "./.config/google-chrome/Default/Service Worker/Database/000003.log\n",
      "./.config/google-chrome/Default/Web Data-journal\n",
      "./.config/google-chrome/Default/Shortcuts\n",
      "./.config/google-chrome/Default/Local Storage/leveldb\n",
      "./.config/google-chrome/Default/Local Storage/leveldb/000027.ldb\n",
      "./.config/google-chrome/Default/Local Storage/leveldb/000025.log\n",
      "./.config/google-chrome/Default/Local Storage/leveldb/MANIFEST-000001\n",
      "./.config/google-chrome/Default/Local Storage/leveldb/LOG\n",
      "./.config/google-chrome/Default/Network Action Predictor\n",
      "./.cache/google-chrome/Default/Cache\n",
      "./.cache/google-chrome/Default/Cache/691f207ae93353c3_1\n",
      "./.cache/google-chrome/Default/Cache/77fd1ea6214b8902_0\n",
      "./.cache/google-chrome/Default/Cache/e95aa23b917934bb_0\n",
      "./.cache/google-chrome/Default/Cache/42e190f3b9e9ee43_0\n",
      "./.cache/google-chrome/Default/Cache/14c98c006f7a924c_0\n",
      "./.cache/google-chrome/Default/Cache/f7b144245b8341a5_0\n",
      "./.cache/google-chrome/Default/Cache/9250279e14413916_0\n",
      "./.cache/google-chrome/Default/Cache/749d4a37f7d23c6f_0\n",
      "./.cache/google-chrome/Default/Cache/68654720c69db89f_0\n",
      "./.cache/google-chrome/Default/Cache/749d4a37f7d23c6f_1\n",
      "./.cache/google-chrome/Default/Cache/942a9b5d15a8414d_0\n",
      "./.cache/google-chrome/Default/Cache/index-dir\n",
      "./.cache/google-chrome/Default/Cache/index-dir/the-real-index\n",
      "./.cache/google-chrome/Default/Cache/7bbfb90fa8aaa814_0\n",
      "./.cache/google-chrome/Default/Cache/e3947ec88f27d831_0\n",
      "./.cache/google-chrome/Default/Cache/4871aacabd96890c_1\n",
      "./.cache/google-chrome/Default/Cache/6d2af9837760fcd5_0\n",
      "./.cache/google-chrome/Default/Cache/e296a7e89b50daa9_0\n",
      "./.cache/google-chrome/Default/Cache/ac952f81ac50ea31_0\n",
      "./.cache/google-chrome/Default/Cache/700c127c16b60880_0\n",
      "./.cache/google-chrome/Default/Cache/00b2b32eea5b6c04_0\n",
      "./.cache/google-chrome/Default/Cache/a99e33837f2c713c_0\n",
      "./.cache/google-chrome/Default/Cache/9f7ae126b27bf49d_1\n",
      "./.cache/google-chrome/Default/Cache/f882edeee83ea35c_1\n",
      "./.cache/google-chrome/Default/Cache/b06fd25d0794ecff_0\n",
      "./.cache/google-chrome/Default/Cache/bf338c81245c038a_0\n",
      "./.cache/google-chrome/Default/Cache/e0d9c25149b04e57_1\n",
      "./.cache/google-chrome/Default/Cache/8654625a57e4dc3d_0\n",
      "./.cache/google-chrome/Default/Cache/7324635ca0fb6c14_0\n",
      "./.cache/google-chrome/Default/Cache/23da4c960ed5fd8b_0\n",
      "./.cache/google-chrome/Default/Cache/6ab3f25621f96366_0\n",
      "./.cache/google-chrome/Default/Cache/b06ba614b99376f3_0\n",
      "./.cache/google-chrome/Default/Cache/048885109476c968_0\n",
      "./.cache/google-chrome/Default/Cache/3a0ae7422c6356fd_0\n",
      "./.cache/google-chrome/Default/Cache/68654720c69db89f_1\n",
      "./.cache/google-chrome/Default/Cache/960dec206dfad184_0\n",
      "./.cache/google-chrome/Default/Cache/e0d9c25149b04e57_0\n",
      "./.cache/google-chrome/Default/Cache/f7e3b1566cdb0e12_0\n",
      "./.cache/google-chrome/Default/Cache/3f6b31627386ae3f_0\n",
      "./.cache/google-chrome/Default/Cache/44472d78775b3ac7_0\n",
      "./.cache/google-chrome/Default/Cache/53a3b97fee813e79_0\n",
      "./.cache/google-chrome/Default/Cache/a311c9025177381a_0\n",
      "./.cache/google-chrome/Default/Cache/6339997ef39e97b1_0\n",
      "./.cache/google-chrome/Default/Cache/44468eef3773e307_0\n",
      "./.cache/google-chrome/Default/Cache/53a3b97fee813e79_1\n",
      "./.cache/google-chrome/Default/Cache/46924fc00bc1c64c_0\n",
      "./.cache/google-chrome/Default/Cache/77fd1ea6214b8902_1\n",
      "./.cache/google-chrome/Default/Cache/28707289d010465c_0\n",
      "./.cache/google-chrome/Default/Cache/e9240ab38c1d755b_0\n",
      "./.cache/google-chrome/Default/Cache/6d2af9837760fcd5_1\n",
      "./.cache/google-chrome/Default/Cache/e0871945dffeeb84_0\n",
      "./.cache/google-chrome/Default/Cache/b5bfb0a195abd7e4_0\n",
      "./.ipython/profile_default\n",
      "./.ipython/profile_default/history.sqlite\n",
      "./.ipython/profile_default/db/dhist\n",
      "./.local/share/jupyter\n",
      "./.local/share/jupyter/nbsignatures.db\n"
     ]
    }
   ],
   "source": [
    "% cd\n",
    "\n",
    "! find -mindepth 2 -mmin -2"
   ]
  },
  {
   "cell_type": "markdown",
   "metadata": {},
   "source": [
    "* Find all empty files inside DIIRECT subdirectories of your home directory which do NOT have read-write-execute permissions given to all users. *I have changed the exercise in order to mionimize the results*. "
   ]
  },
  {
   "cell_type": "code",
   "execution_count": 66,
   "metadata": {},
   "outputs": [
    {
     "name": "stdout",
     "output_type": "stream",
     "text": [
      "/home/dsc\n",
      "-rw-r--r-- 1 dsc dsc 0 nov 24 10:24 ./vacio/fichero.txt\n",
      "-rw-rw-rw- 1 dsc dsc 0 dic  6 20:44 ./basura/asdsa.txt\n",
      "-rw-r--r-- 1 dsc dsc 0 dic  7 00:10 ./Downloads/.Rhistory\n",
      "-rw-r--r-- 1 dsc dsc 0 mar 12  2018 ./anaconda3/vscode_inst.py.log\n",
      "-rw-r--r-- 1 dsc dsc 0 nov 24 10:52 ./one/holaConMismosPermisos.txt\n",
      "-rw-r--r-- 1 dsc dsc 0 nov 24 10:52 ./one/holaNuevoNombre.txt\n",
      "-rw-rw-r-- 1 dsc dsc 0 mar 12  2018 ./.rstudio-desktop/history_database\n"
     ]
    }
   ],
   "source": [
    "% cd\n",
    "\n",
    "! find -mindepth 2 -maxdepth 2 -not -perm 777 -empty -type f -exec ls -l {} \\;"
   ]
  },
  {
   "cell_type": "markdown",
   "metadata": {},
   "source": [
    "* Expand previous command to grant these permissions using “ok” option."
   ]
  },
  {
   "cell_type": "markdown",
   "metadata": {},
   "source": [
    "In this case the command would be \n",
    "\n",
    "```shell\n",
    "find -mindepth 2 -maxdepth 2 -not -perm 777 -empty -type f -ok chmod 777 {} \\;\n",
    "```\n",
    "\n",
    "With ok option, a confirmation (Y/N) is required for each found file. "
   ]
  },
  {
   "cell_type": "markdown",
   "metadata": {},
   "source": [
    "* Get top 3 largest files per subdirectory inside ~/Data/ . *Important*: in this exercise we chain commands. It is important to know it. "
   ]
  },
  {
   "cell_type": "code",
   "execution_count": 67,
   "metadata": {},
   "outputs": [
    {
     "name": "stdout",
     "output_type": "stream",
     "text": [
      "/home/dsc/Data\n",
      "- Three largest files of  /home/dsc/Data/\n",
      "airline_tickets\n",
      "challenge\n",
      "opentraveldata\n",
      "- Three largest files of  /home/dsc/Data/challenge\n",
      "bookings.csv.bz2\n",
      "searches.csv.bz2\n",
      "- Three largest files of  /home/dsc/Data/airline_tickets\n",
      "sales_segments.csv.gz\n",
      "data.tar.bz2\n",
      "- Three largest files of  /home/dsc/Data/us_dot\n",
      "otp\n",
      "traffic\n",
      "- Three largest files of  /home/dsc/Data/us_dot/otp\n",
      "On_Time_On_Time_Performance_2015_7.zip\n",
      "On_Time_On_Time_Performance_2015_6.zip\n",
      "On_Time_On_Time_Performance_2015_8.zip\n",
      "- Three largest files of  /home/dsc/Data/us_dot/traffic\n",
      "T100_SEGMENT_ALL_CARRIER_2014.zip\n",
      "T100_SEGMENT_ALL_CARRIER_2015.zip\n",
      "- Three largest files of  /home/dsc/Data/shell\n",
      "Finn.txt\n",
      "zippped.zip\n",
      "pruebas_sql\n",
      "- Three largest files of  /home/dsc/Data/shell/pruebas_sql\n",
      "- Three largest files of  /home/dsc/Data/opentraveldata\n",
      "optd_por_public.csv\n",
      "opentravel.gz.tar\n",
      "optd_airlines.csv\n",
      "- Three largest files of  /home/dsc/Data/opentraveldata/prueba\n"
     ]
    }
   ],
   "source": [
    "% cd ~/Data\n",
    "\n",
    "\n",
    "! find ~/Data/ -type d -exec echo \"- Three largest files of \" {} \\; -exec sh -c \"ls -S {} | head -3 \" \\;\n"
   ]
  },
  {
   "cell_type": "markdown",
   "metadata": {},
   "source": [
    "Sources:\n",
    "https://www.servidoresadmin.com/comando-find-en-linux-shell-script/"
   ]
  },
  {
   "cell_type": "markdown",
   "metadata": {},
   "source": [
    "<link rel=\"stylesheet\" href=\"https://cdnjs.cloudflare.com/ajax/libs/font-awesome/4.7.0/css/font-awesome.min.css\">\n",
    "<div style=\"text-align:right\">\n",
    "Juan Luis García López (@huanlui)\n",
    "<a href=\"https://github.com/huanlui\" class=\"fa fa-github\"> Github </a>\n",
    "<a href=\"https://twitter.com/huanlui\" class=\"fa fa-twitter\"> Twitter </a>\n",
    "<a href=\"https://www.linkedin.com/in/juan-luis-garcía-lópez-99057138\" class=\"fa fa-linkedin\"> Linkedin </a>\n",
    "<div>\n"
   ]
  }
 ],
 "metadata": {
  "kernelspec": {
   "display_name": "Python 3",
   "language": "python",
   "name": "python3"
  },
  "language_info": {
   "codemirror_mode": {
    "name": "ipython",
    "version": 3
   },
   "file_extension": ".py",
   "mimetype": "text/x-python",
   "name": "python",
   "nbconvert_exporter": "python",
   "pygments_lexer": "ipython3",
   "version": "3.6.4"
  }
 },
 "nbformat": 4,
 "nbformat_minor": 2
}
