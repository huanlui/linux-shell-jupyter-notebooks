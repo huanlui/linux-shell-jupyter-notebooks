{
 "cells": [
  {
   "cell_type": "markdown",
   "metadata": {},
   "source": [
    "# _Find_ command"
   ]
  },
  {
   "cell_type": "markdown",
   "metadata": {},
   "source": [
    "Let's explain use of command _find_. It has lots of options."
   ]
  },
  {
   "cell_type": "markdown",
   "metadata": {},
   "source": [
    "##  Examples"
   ]
  },
  {
   "cell_type": "markdown",
   "metadata": {},
   "source": [
    "* Find all files with a name exactly equal to Finn.txt"
   ]
  },
  {
   "cell_type": "code",
   "execution_count": 36,
   "metadata": {},
   "outputs": [
    {
     "name": "stdout",
     "output_type": "stream",
     "text": [
      "/home/dsc/Data\n",
      "./shell/Finn.txt\r\n"
     ]
    }
   ],
   "source": [
    "% cd ~/Data\n",
    "\n",
    "! find -name \"Finn.txt\""
   ]
  },
  {
   "cell_type": "markdown",
   "metadata": {},
   "source": [
    "* Find all files with extension _.txt_. Note than an extension is just a part of the file name. We use wildcard (*)."
   ]
  },
  {
   "cell_type": "code",
   "execution_count": 37,
   "metadata": {},
   "outputs": [
    {
     "name": "stdout",
     "output_type": "stream",
     "text": [
      "/home/dsc/Data\n",
      "./us_dot/otp/last_20.txt\r\n",
      "./shell/con_lineas.txt\r\n",
      "./shell/Text_4sed.txt\r\n",
      "./shell/Finn.txt\r\n",
      "./shell/Text_example.txt\r\n",
      "./shell/Text_twice.txt\r\n"
     ]
    }
   ],
   "source": [
    "% cd ~/Data\n",
    "\n",
    "! find -name \"*.txt\""
   ]
  },
  {
   "cell_type": "markdown",
   "metadata": {},
   "source": [
    "* Find all files with extension _.txt_ inside shell. "
   ]
  },
  {
   "cell_type": "code",
   "execution_count": 38,
   "metadata": {},
   "outputs": [
    {
     "name": "stdout",
     "output_type": "stream",
     "text": [
      "/home/dsc/Data\n",
      "./shell/con_lineas.txt\r\n",
      "./shell/Text_4sed.txt\r\n",
      "./shell/Finn.txt\r\n",
      "./shell/Text_example.txt\r\n",
      "./shell/Text_twice.txt\r\n"
     ]
    }
   ],
   "source": [
    "% cd ~/Data\n",
    "\n",
    "! find ./shell -name \"*.txt\""
   ]
  },
  {
   "cell_type": "markdown",
   "metadata": {},
   "source": [
    "* Find case-insensitive"
   ]
  },
  {
   "cell_type": "code",
   "execution_count": 39,
   "metadata": {},
   "outputs": [
    {
     "name": "stdout",
     "output_type": "stream",
     "text": [
      "/home/dsc/Data\n",
      "./us_dot/otp/last_20.txt\r\n",
      "./shell/con_lineas.txt\r\n",
      "./shell/Text_4sed.txt\r\n",
      "./shell/Finn.txt\r\n",
      "./shell/Text_example.txt\r\n",
      "./shell/Text_twice.txt\r\n"
     ]
    }
   ],
   "source": [
    "% cd ~/Data\n",
    "\n",
    "! find -iname \"*.tXT\" "
   ]
  },
  {
   "cell_type": "markdown",
   "metadata": {},
   "source": [
    "* Find files greater than 1000 KB"
   ]
  },
  {
   "cell_type": "code",
   "execution_count": 40,
   "metadata": {},
   "outputs": [
    {
     "name": "stdout",
     "output_type": "stream",
     "text": [
      "/home/dsc/Data\n",
      "./challenge/searches.csv.bz2\n",
      "./challenge/bookings.csv.bz2\n",
      "./airline_tickets/data.tar.bz2\n",
      "./airline_tickets/sales_segments.csv.gz\n",
      "./us_dot/otp/On_Time_On_Time_Performance_2015_2.zip\n",
      "./us_dot/otp/On_Time_On_Time_Performance_2015_8.zip\n",
      "./us_dot/otp/On_Time_On_Time_Performance_2015_4.zip\n",
      "./us_dot/otp/On_Time_On_Time_Performance_2015_3.zip\n",
      "./us_dot/otp/On_Time_On_Time_Performance_2015_7.zip\n",
      "./us_dot/otp/On_Time_On_Time_Performance_2015_1.zip\n",
      "./us_dot/otp/On_Time_On_Time_Performance_2015_6.zip\n",
      "./us_dot/otp/On_Time_On_Time_Performance_2015_5.zip\n",
      "./us_dot/traffic/T100_SEGMENT_ALL_CARRIER_2015.zip\n",
      "./us_dot/traffic/T100_SEGMENT_ALL_CARRIER_2014.zip\n",
      "./opentraveldata/optd_por_public.csv\n",
      "./opentraveldata/opentravel.gz.tar\n"
     ]
    }
   ],
   "source": [
    "% cd ~/Data\n",
    "\n",
    "! find -size +1000k"
   ]
  },
  {
   "cell_type": "markdown",
   "metadata": {},
   "source": [
    "* Find files lower than 1000 KB"
   ]
  },
  {
   "cell_type": "code",
   "execution_count": 41,
   "metadata": {},
   "outputs": [
    {
     "name": "stdout",
     "output_type": "stream",
     "text": [
      "/home/dsc/Data\n",
      ".\r\n",
      "./challenge\r\n",
      "./airline_tickets\r\n",
      "./README.md\r\n",
      "./us_dot\r\n",
      "./us_dot/otp\r\n",
      "./us_dot/otp/last_20.txt\r\n",
      "./us_dot/traffic\r\n",
      "./shell\r\n",
      "./shell/zippped.zip\r\n",
      "./shell/pruebas_sql\r\n",
      "./shell/con_lineas.txt\r\n",
      "./shell/Text_4sed.txt\r\n",
      "./shell/Finn.txt\r\n",
      "./shell/miscolumnas.vsc\r\n",
      "./shell/Text_example.txt\r\n",
      "./shell/Text_twice.txt\r\n",
      "./shell/numbers\r\n",
      "./shell/column_name_number.sh\r\n",
      "./opentraveldata\r\n",
      "./opentraveldata/optd_airlines.csv\r\n",
      "./opentraveldata/Nofokker.csv\r\n",
      "./opentraveldata/fokker.csv\r\n",
      "./opentraveldata/optd_aircraft_con_comas_con_csvformat.csv\r\n",
      "./opentraveldata/ref_airline_nb_of_flights.csv\r\n",
      "./opentraveldata/optd_cabecera\r\n",
      "./opentraveldata/optd_aircraft.sql\r\n",
      "./opentraveldata/optd_aircraft.csv\r\n",
      "./opentraveldata/prueba\r\n",
      "./opentraveldata/optd_aircraft_comma.csv\r\n"
     ]
    }
   ],
   "source": [
    "% cd ~/Data\n",
    "\n",
    "! find -size -1000k"
   ]
  },
  {
   "cell_type": "markdown",
   "metadata": {},
   "source": [
    "* Find ONLY files lower than 1000 KB"
   ]
  },
  {
   "cell_type": "code",
   "execution_count": 42,
   "metadata": {},
   "outputs": [
    {
     "name": "stdout",
     "output_type": "stream",
     "text": [
      "/home/dsc/Data\n",
      "./README.md\r\n",
      "./us_dot/otp/last_20.txt\r\n",
      "./shell/zippped.zip\r\n",
      "./shell/con_lineas.txt\r\n",
      "./shell/Text_4sed.txt\r\n",
      "./shell/Finn.txt\r\n",
      "./shell/miscolumnas.vsc\r\n",
      "./shell/Text_example.txt\r\n",
      "./shell/Text_twice.txt\r\n",
      "./shell/numbers\r\n",
      "./shell/column_name_number.sh\r\n",
      "./opentraveldata/optd_airlines.csv\r\n",
      "./opentraveldata/Nofokker.csv\r\n",
      "./opentraveldata/fokker.csv\r\n",
      "./opentraveldata/optd_aircraft_con_comas_con_csvformat.csv\r\n",
      "./opentraveldata/ref_airline_nb_of_flights.csv\r\n",
      "./opentraveldata/optd_cabecera\r\n",
      "./opentraveldata/optd_aircraft.sql\r\n",
      "./opentraveldata/optd_aircraft.csv\r\n",
      "./opentraveldata/optd_aircraft_comma.csv\r\n"
     ]
    }
   ],
   "source": [
    "% cd ~/Data\n",
    "\n",
    "! find -type f -size -1000k"
   ]
  },
  {
   "cell_type": "markdown",
   "metadata": {},
   "source": [
    "* Find only folders"
   ]
  },
  {
   "cell_type": "code",
   "execution_count": 43,
   "metadata": {},
   "outputs": [
    {
     "name": "stdout",
     "output_type": "stream",
     "text": [
      "/home/dsc/Data\n",
      "./opentraveldata\r\n"
     ]
    }
   ],
   "source": [
    "% cd ~/Data\n",
    "\n",
    "! find -type d -name \"*op*\""
   ]
  },
  {
   "cell_type": "markdown",
   "metadata": {},
   "source": [
    "* Use -not to invert the match. Note that -not only affects to the next filter"
   ]
  },
  {
   "cell_type": "code",
   "execution_count": 44,
   "metadata": {},
   "outputs": [
    {
     "name": "stdout",
     "output_type": "stream",
     "text": [
      "/home/dsc/Data\n",
      ".\r\n",
      "./challenge\r\n",
      "./airline_tickets\r\n",
      "./us_dot\r\n",
      "./us_dot/otp\r\n",
      "./us_dot/traffic\r\n",
      "./shell\r\n",
      "./shell/pruebas_sql\r\n",
      "./opentraveldata/prueba\r\n"
     ]
    }
   ],
   "source": [
    "% cd ~/Data\n",
    "\n",
    "! find -not -name \"*op*\" -type d "
   ]
  },
  {
   "cell_type": "markdown",
   "metadata": {},
   "source": [
    "* Find according permissions. Example: find files with all the permissions. For help, execute ```man chmod``` from shell"
   ]
  },
  {
   "cell_type": "code",
   "execution_count": 45,
   "metadata": {},
   "outputs": [
    {
     "name": "stdout",
     "output_type": "stream",
     "text": [
      "/home/dsc/Data\n",
      "./shell/Text_example.txt\r\n",
      "./shell/column_name_number.sh\r\n"
     ]
    }
   ],
   "source": [
    "% cd ~/Data\n",
    "\n",
    "! find -perm 777"
   ]
  },
  {
   "cell_type": "markdown",
   "metadata": {},
   "source": [
    "* Find only in this folder. Use -maxdepth.  b"
   ]
  },
  {
   "cell_type": "code",
   "execution_count": 46,
   "metadata": {},
   "outputs": [
    {
     "name": "stdout",
     "output_type": "stream",
     "text": [
      "/home/dsc/Data\n",
      "./challenge\r\n",
      "./airline_tickets\r\n",
      "./shell\r\n",
      "./opentraveldata\r\n"
     ]
    }
   ],
   "source": [
    "% cd ~/Data\n",
    "\n",
    "! find  -maxdepth 1  -type d -name \"*e*\"\n"
   ]
  },
  {
   "cell_type": "markdown",
   "metadata": {},
   "source": [
    "* Execute an action for each found file. Example, count lines"
   ]
  },
  {
   "cell_type": "code",
   "execution_count": 47,
   "metadata": {},
   "outputs": [
    {
     "name": "stdout",
     "output_type": "stream",
     "text": [
      "/home/dsc/Data\n",
      "20 ./us_dot/otp/last_20.txt\r\n",
      "7 ./shell/con_lineas.txt\r\n",
      "7 ./shell/Text_4sed.txt\r\n",
      "12363 ./shell/Finn.txt\r\n",
      "7 ./shell/Text_example.txt\r\n",
      "14 ./shell/Text_twice.txt\r\n"
     ]
    }
   ],
   "source": [
    "% cd ~/Data\n",
    "\n",
    "! find -name \"*.txt\" -exec wc -l {} \\;"
   ]
  },
  {
   "cell_type": "markdown",
   "metadata": {},
   "source": [
    "Note that file name is represented by {}. In addition, we must add \"\\;\" to the end of the command"
   ]
  },
  {
   "cell_type": "markdown",
   "metadata": {},
   "source": [
    "* If finish the command with _+_ instead of _\\n_, the command is executed once with the aggregated result"
   ]
  },
  {
   "cell_type": "code",
   "execution_count": 48,
   "metadata": {},
   "outputs": [
    {
     "name": "stdout",
     "output_type": "stream",
     "text": [
      "/home/dsc/Data\n",
      "    20 ./us_dot/otp/last_20.txt\r\n",
      "     7 ./shell/con_lineas.txt\r\n",
      "     7 ./shell/Text_4sed.txt\r\n",
      " 12363 ./shell/Finn.txt\r\n",
      "     7 ./shell/Text_example.txt\r\n",
      "    14 ./shell/Text_twice.txt\r\n",
      " 12418 total\r\n"
     ]
    }
   ],
   "source": [
    "% cd ~/Data\n",
    "\n",
    "! find -name \"*.txt\" -exec wc -l {} +"
   ]
  },
  {
   "cell_type": "markdown",
   "metadata": {},
   "source": [
    "## Exercises"
   ]
  },
  {
   "cell_type": "markdown",
   "metadata": {},
   "source": [
    "* Find all files located ONLY inside subdirectories of your home directory which have been modified in last 2min"
   ]
  },
  {
   "cell_type": "code",
   "execution_count": 49,
   "metadata": {},
   "outputs": [
    {
     "name": "stdout",
     "output_type": "stream",
     "text": [
      "/home/dsc\n",
      "./Repos/linux-shell-jupyter-notebooks\n",
      "./Repos/linux-shell-jupyter-notebooks/004_Find_command.ipynb\n",
      "./Repos/linux-shell-jupyter-notebooks/.ipynb_checkpoints/004_Find_command-checkpoint.ipynb\n",
      "./.config/libreoffice/4/user\n",
      "./.config/libreoffice/4/user/registrymodifications.xcu\n",
      "./.config/google-chrome/BrowserMetrics/BrowserMetrics-5C0BA023-622.pma\n",
      "./.config/google-chrome/ShaderCache/GPUCache/data_1\n",
      "./.config/google-chrome/Default\n",
      "./.config/google-chrome/Default/GPUCache/data_1\n",
      "./.config/google-chrome/Default/Current Session\n",
      "./.config/google-chrome/Default/Cookies\n",
      "./.config/google-chrome/Default/Cookies-journal\n",
      "./.config/google-chrome/Default/History-journal\n",
      "./.config/google-chrome/Default/Preferences\n",
      "./.cache/google-chrome/Default/Cache\n",
      "./.cache/google-chrome/Default/Cache/00b2b32eea5b6c04_0\n",
      "./.cache/google-chrome/Default/Cache/0e75151d735422f0_0\n",
      "./.cache/google-chrome/Default/Cache/5630ce9dda93af56_0\n",
      "./.ipython/profile_default\n",
      "./.ipython/profile_default/history.sqlite\n",
      "./.ipython/profile_default/db/dhist\n",
      "./.local/share/jupyter\n",
      "./.local/share/jupyter/nbsignatures.db\n"
     ]
    }
   ],
   "source": [
    "% cd\n",
    "\n",
    "! find -mindepth 2 -mmin -2"
   ]
  },
  {
   "cell_type": "markdown",
   "metadata": {},
   "source": [
    "* Find all empty files inside DIIRECT subdirectories of your home directory which do NOT have read-write-execute permissions given to all users. *I have changed the exercise in order to mionimize the results*. "
   ]
  },
  {
   "cell_type": "code",
   "execution_count": 50,
   "metadata": {},
   "outputs": [
    {
     "name": "stdout",
     "output_type": "stream",
     "text": [
      "/home/dsc\n",
      "-rw-r--r-- 1 dsc dsc 0 nov 24 10:24 ./vacio/fichero.txt\r\n",
      "-rw-rw-rw- 1 dsc dsc 0 dic  6 20:44 ./basura/asdsa.txt\r\n",
      "-rw-r--r-- 1 dsc dsc 0 dic  7 00:10 ./Downloads/.Rhistory\r\n",
      "-rw-r--r-- 1 dsc dsc 0 mar 12  2018 ./anaconda3/vscode_inst.py.log\r\n",
      "-rw-r--r-- 1 dsc dsc 0 nov 24 10:52 ./one/holaConMismosPermisos.txt\r\n",
      "-rw-r--r-- 1 dsc dsc 0 nov 24 10:52 ./one/holaNuevoNombre.txt\r\n",
      "-rw-rw-r-- 1 dsc dsc 0 mar 12  2018 ./.rstudio-desktop/history_database\r\n"
     ]
    }
   ],
   "source": [
    "% cd\n",
    "\n",
    "! find -mindepth 2 -maxdepth 2 -not -perm 777 -empty -type f -exec ls -l {} \\;"
   ]
  },
  {
   "cell_type": "markdown",
   "metadata": {},
   "source": [
    "* Expand previous command to grant these permissions using “ok” option."
   ]
  },
  {
   "cell_type": "markdown",
   "metadata": {},
   "source": [
    "In this case the command would be \n",
    "\n",
    "```shell\n",
    "find -mindepth 2 -maxdepth 2 -not -perm 777 -empty -type f -ok chmod 777 {} \\;\n",
    "```\n",
    "\n",
    "With ok option, a confirmation (Y/N) is required for each found file. "
   ]
  },
  {
   "cell_type": "markdown",
   "metadata": {},
   "source": [
    "* Get top 3 largest files per subdirectory inside ~/Data/ "
   ]
  },
  {
   "cell_type": "code",
   "execution_count": 51,
   "metadata": {},
   "outputs": [
    {
     "name": "stdout",
     "output_type": "stream",
     "text": [
      "/home/dsc/Data\n",
      "- Three largest files of  /home/dsc/Data/\n",
      "airline_tickets\n",
      "challenge\n",
      "opentraveldata\n",
      "- Three largest files of  /home/dsc/Data/challenge\n",
      "bookings.csv.bz2\n",
      "searches.csv.bz2\n",
      "- Three largest files of  /home/dsc/Data/airline_tickets\n",
      "sales_segments.csv.gz\n",
      "data.tar.bz2\n",
      "- Three largest files of  /home/dsc/Data/us_dot\n",
      "otp\n",
      "traffic\n",
      "- Three largest files of  /home/dsc/Data/us_dot/otp\n",
      "On_Time_On_Time_Performance_2015_7.zip\n",
      "On_Time_On_Time_Performance_2015_6.zip\n",
      "On_Time_On_Time_Performance_2015_8.zip\n",
      "- Three largest files of  /home/dsc/Data/us_dot/traffic\n",
      "T100_SEGMENT_ALL_CARRIER_2014.zip\n",
      "T100_SEGMENT_ALL_CARRIER_2015.zip\n",
      "- Three largest files of  /home/dsc/Data/shell\n",
      "Finn.txt\n",
      "zippped.zip\n",
      "pruebas_sql\n",
      "- Three largest files of  /home/dsc/Data/shell/pruebas_sql\n",
      "- Three largest files of  /home/dsc/Data/opentraveldata\n",
      "optd_por_public.csv\n",
      "opentravel.gz.tar\n",
      "optd_airlines.csv\n",
      "- Three largest files of  /home/dsc/Data/opentraveldata/prueba\n"
     ]
    }
   ],
   "source": [
    "% cd ~/Data\n",
    "\n",
    "\n",
    "! find ~/Data/ -type d -exec echo \"- Three largest files of \" {} \\; -exec sh -c \"ls -S {} | head -3 \" \\;\n"
   ]
  },
  {
   "cell_type": "markdown",
   "metadata": {},
   "source": [
    "Sources:\n",
    "https://www.servidoresadmin.com/comando-find-en-linux-shell-script/"
   ]
  },
  {
   "cell_type": "markdown",
   "metadata": {},
   "source": [
    "| Juan Luis García López (@huanlui)  | | |                 \n",
    ":-------------------------:|:-------------------------:|:-------------------------:\n",
    "|| [![Github profile](img/github.png)](https://github.com/huanlui)  |   [![Twitter profile](img/twitter.png)](https://twitter.com/huanlui) |  [![Linkedin profile](img/linkedin.png)](https://www.linkedin.com/in/juan-luis-garcía-lópez-99057138)"
   ]
  }
 ],
 "metadata": {
  "kernelspec": {
   "display_name": "Python 3",
   "language": "python",
   "name": "python3"
  },
  "language_info": {
   "codemirror_mode": {
    "name": "ipython",
    "version": 3
   },
   "file_extension": ".py",
   "mimetype": "text/x-python",
   "name": "python",
   "nbconvert_exporter": "python",
   "pygments_lexer": "ipython3",
   "version": "3.6.4"
  }
 },
 "nbformat": 4,
 "nbformat_minor": 2
}
