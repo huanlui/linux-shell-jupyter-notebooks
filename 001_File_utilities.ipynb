{
 "cells": [
  {
   "cell_type": "markdown",
   "metadata": {},
   "source": [
    "# File utilities"
   ]
  },
  {
   "cell_type": "markdown",
   "metadata": {},
   "source": [
    "A set of exercises to practice with file utilities on Linux shell"
   ]
  },
  {
   "cell_type": "markdown",
   "metadata": {},
   "source": [
    "## Preparing environment"
   ]
  },
  {
   "cell_type": "markdown",
   "metadata": {},
   "source": [
    "Take into account that _cd_ shell command and other do not work so we have to use _%cd_ instead."
   ]
  },
  {
   "cell_type": "code",
   "execution_count": 22,
   "metadata": {
    "scrolled": true
   },
   "outputs": [
    {
     "name": "stdout",
     "output_type": "stream",
     "text": [
      "/home/dsc\n"
     ]
    }
   ],
   "source": [
    "%cd\n",
    "! rm -rf first_dir"
   ]
  },
  {
   "cell_type": "markdown",
   "metadata": {},
   "source": [
    "## Exercises\n"
   ]
  },
  {
   "cell_type": "markdown",
   "metadata": {},
   "source": [
    "* Create\ta\tdirectory\t“first_dir”\tin\tyou\thome\tfolder "
   ]
  },
  {
   "cell_type": "code",
   "execution_count": 23,
   "metadata": {},
   "outputs": [
    {
     "name": "stdout",
     "output_type": "stream",
     "text": [
      "anaconda3  Downloads\t\t     metastore_db  Repos\t     vacio\r\n",
      "basura\t   first_dir\t\t     Music\t   salida.sh\t     Videos\r\n",
      "Data\t   first_Dir_2\t\t     one\t   size\r\n",
      "derby.log  first_linux_commands.txt  Pictures\t   size_of_file.txt\r\n",
      "Desktop    hello_file\t\t     Public\t   Templates\r\n",
      "Documents  Historias Antiguas\t     R\t\t   uniq_example.txt\r\n"
     ]
    }
   ],
   "source": [
    "! mkdir first_dir\n",
    "! ls"
   ]
  },
  {
   "cell_type": "markdown",
   "metadata": {},
   "source": [
    " * Create\tan\tempty\tfile\t“text_file.txt”\tinside\t“first_dir”\tdirectory.\t"
   ]
  },
  {
   "cell_type": "code",
   "execution_count": 24,
   "metadata": {},
   "outputs": [
    {
     "name": "stdout",
     "output_type": "stream",
     "text": [
      "/home/dsc/first_dir\n",
      "text_file.txt\n"
     ]
    }
   ],
   "source": [
    "%cd first_dir\n",
    "! touch text_file.txt\n",
    "! ls"
   ]
  },
  {
   "cell_type": "markdown",
   "metadata": {},
   "source": [
    "* Add\texecute\tpermissions\tto\tgroup\tusers,\tand\twrite\tpermissions\tto\tother\tusers\tto\t“text_file.txt”\t"
   ]
  },
  {
   "cell_type": "code",
   "execution_count": 25,
   "metadata": {},
   "outputs": [
    {
     "name": "stdout",
     "output_type": "stream",
     "text": [
      "-rw-r--r-- 1 dsc dsc 0 dic  8 14:37 text_file.txt\n",
      "-rw-r-xrw- 1 dsc dsc 0 dic  8 14:37 text_file.txt\n"
     ]
    }
   ],
   "source": [
    "! ls -alt text_file.txt\n",
    "! chmod g+x,o+w text_file.txt\n",
    "! ls -alt text_file.txt"
   ]
  },
  {
   "cell_type": "markdown",
   "metadata": {},
   "source": [
    "* Create 3 subdirectories inside “first_dir”: “sub1”, “sub2”, “text_file\""
   ]
  },
  {
   "cell_type": "code",
   "execution_count": 26,
   "metadata": {},
   "outputs": [
    {
     "name": "stdout",
     "output_type": "stream",
     "text": [
      "sub1  sub2  text_file  text_file.txt\r\n"
     ]
    }
   ],
   "source": [
    "! mkdir sub1 sub2 text_file\n",
    "! ls"
   ]
  },
  {
   "cell_type": "markdown",
   "metadata": {},
   "source": [
    "* Copy the \"text_file.txt\" file into \"sub1\" subdirectory"
   ]
  },
  {
   "cell_type": "code",
   "execution_count": 27,
   "metadata": {},
   "outputs": [
    {
     "name": "stdout",
     "output_type": "stream",
     "text": [
      ".:\r\n",
      "sub1  sub2  text_file  text_file.txt\r\n",
      "\r\n",
      "./sub1:\r\n",
      "text_file.txt\r\n",
      "\r\n",
      "./sub2:\r\n",
      "\r\n",
      "./text_file:\r\n"
     ]
    }
   ],
   "source": [
    "! cp text_file.txt sub1\n",
    "! ls -R"
   ]
  },
  {
   "cell_type": "markdown",
   "metadata": {},
   "source": [
    "* Move the \"text_file.txt\" into sub2 unser name \"text_file.txt.2\""
   ]
  },
  {
   "cell_type": "code",
   "execution_count": 28,
   "metadata": {},
   "outputs": [
    {
     "name": "stdout",
     "output_type": "stream",
     "text": [
      ".:\r\n",
      "sub1  sub2  text_file\r\n",
      "\r\n",
      "./sub1:\r\n",
      "text_file.txt\r\n",
      "\r\n",
      "./sub2:\r\n",
      "text_file.txt.2\r\n",
      "\r\n",
      "./text_file:\r\n"
     ]
    }
   ],
   "source": [
    "! mv text_file.txt sub2/text_file.txt.2\n",
    "! ls -R"
   ]
  },
  {
   "cell_type": "markdown",
   "metadata": {},
   "source": [
    "* Copy the whole directory \"sub1\" to \"sub3\" directory"
   ]
  },
  {
   "cell_type": "code",
   "execution_count": 29,
   "metadata": {},
   "outputs": [
    {
     "name": "stdout",
     "output_type": "stream",
     "text": [
      ".:\r\n",
      "sub1  sub2  sub3  text_file\r\n",
      "\r\n",
      "./sub1:\r\n",
      "text_file.txt\r\n",
      "\r\n",
      "./sub2:\r\n",
      "text_file.txt.2\r\n",
      "\r\n",
      "./sub3:\r\n",
      "text_file.txt\r\n",
      "\r\n",
      "./text_file:\r\n"
     ]
    }
   ],
   "source": [
    "! cp -r sub1 sub3\n",
    "! ls -R"
   ]
  },
  {
   "cell_type": "markdown",
   "metadata": {},
   "source": [
    "* Change file name of \"first_dir/sub2/text_file.txt.2\" to \"first_dir/sub2/text_file.txt.backup\""
   ]
  },
  {
   "cell_type": "code",
   "execution_count": 30,
   "metadata": {
    "scrolled": true
   },
   "outputs": [
    {
     "name": "stdout",
     "output_type": "stream",
     "text": [
      ".:\r\n",
      "sub1  sub2  sub3  text_file\r\n",
      "\r\n",
      "./sub1:\r\n",
      "text_file.txt\r\n",
      "\r\n",
      "./sub2:\r\n",
      "text_file.txt.backup\r\n",
      "\r\n",
      "./sub3:\r\n",
      "text_file.txt\r\n",
      "\r\n",
      "./text_file:\r\n"
     ]
    }
   ],
   "source": [
    "! mv sub2/text_file.txt.2 sub2/text_file.txt.backup\n",
    "! ls -R"
   ]
  },
  {
   "cell_type": "markdown",
   "metadata": {},
   "source": [
    "Move \"first_dir/sub2/text_file.txt.backup\" to \"first_dir\" directory as hidden file"
   ]
  },
  {
   "cell_type": "code",
   "execution_count": 31,
   "metadata": {},
   "outputs": [
    {
     "name": "stdout",
     "output_type": "stream",
     "text": [
      ".:\r\n",
      ".  ..  sub1  sub2  sub3  text_file  .text_file.txt.backup\r\n",
      "\r\n",
      "./sub1:\r\n",
      ".  ..  text_file.txt\r\n",
      "\r\n",
      "./sub2:\r\n",
      ".  ..\r\n",
      "\r\n",
      "./sub3:\r\n",
      ".  ..  text_file.txt\r\n",
      "\r\n",
      "./text_file:\r\n",
      ".  ..\r\n"
     ]
    }
   ],
   "source": [
    "! mv sub2/text_file.txt.backup .text_file.txt.backup\n",
    "! ls -Ra"
   ]
  },
  {
   "cell_type": "markdown",
   "metadata": {},
   "source": [
    "Note: hidden files begin with '.' in linux"
   ]
  },
  {
   "cell_type": "markdown",
   "metadata": {},
   "source": [
    "* Use help to find out how to get the list of subdirectories limited to 2 sublevels by using “tree” command"
   ]
  },
  {
   "cell_type": "code",
   "execution_count": 32,
   "metadata": {},
   "outputs": [
    {
     "name": "stdout",
     "output_type": "stream",
     "text": [
      "/home/dsc\n",
      "\u001b[01;34m.\u001b[00m\r\n",
      "├── \u001b[01;34manaconda3\u001b[00m\r\n",
      "│   ├── \u001b[01;34mbin\u001b[00m\r\n",
      "│   ├── \u001b[01;34mcompiler_compat\u001b[00m\r\n",
      "│   ├── \u001b[01;34mconda-meta\u001b[00m\r\n",
      "│   ├── \u001b[01;34mdoc\u001b[00m\r\n",
      "│   ├── \u001b[01;34menvs\u001b[00m\r\n",
      "│   ├── \u001b[01;34metc\u001b[00m\r\n",
      "│   ├── \u001b[01;34minclude\u001b[00m\r\n",
      "│   ├── \u001b[01;34mlib\u001b[00m\r\n",
      "│   ├── \u001b[01;34mlibexec\u001b[00m\r\n",
      "│   ├── \u001b[01;34mman\u001b[00m\r\n",
      "│   ├── \u001b[01;34mmkspecs\u001b[00m\r\n",
      "│   ├── \u001b[01;34mphrasebooks\u001b[00m\r\n",
      "│   ├── \u001b[01;34mpkgs\u001b[00m\r\n",
      "│   ├── \u001b[01;34mplugins\u001b[00m\r\n",
      "│   ├── \u001b[01;34mqml\u001b[00m\r\n",
      "│   ├── \u001b[01;34mshare\u001b[00m\r\n",
      "│   ├── \u001b[01;34mssl\u001b[00m\r\n",
      "│   ├── \u001b[01;34mtranslations\u001b[00m\r\n",
      "│   ├── \u001b[01;34mvar\u001b[00m\r\n",
      "│   └── \u001b[01;34mx86_64-conda_cos6-linux-gnu\u001b[00m\r\n",
      "├── \u001b[01;34mbasura\u001b[00m\r\n",
      "│   ├── \u001b[01;34mbasura2\u001b[00m\r\n",
      "│   └── \u001b[01;34mfirst_dir\u001b[00m\r\n",
      "├── \u001b[01;34mData\u001b[00m\r\n",
      "│   ├── \u001b[01;34mairline_tickets\u001b[00m\r\n",
      "│   ├── \u001b[01;34mchallenge\u001b[00m\r\n",
      "│   ├── \u001b[01;34mopentraveldata\u001b[00m\r\n",
      "│   ├── \u001b[01;34mshell\u001b[00m\r\n",
      "│   └── \u001b[01;34mus_dot\u001b[00m\r\n",
      "├── \u001b[01;34mDesktop\u001b[00m\r\n",
      "├── \u001b[01;34mDocuments\u001b[00m\r\n",
      "├── \u001b[01;34mDownloads\u001b[00m\r\n",
      "├── \u001b[01;34mfirst_dir\u001b[00m\r\n",
      "│   ├── \u001b[01;34msub1\u001b[00m\r\n",
      "│   ├── \u001b[01;34msub2\u001b[00m\r\n",
      "│   ├── \u001b[01;34msub3\u001b[00m\r\n",
      "│   └── \u001b[01;34mtext_file\u001b[00m\r\n",
      "├── \u001b[01;34mfirst_Dir_2\u001b[00m\r\n",
      "│   ├── \u001b[01;34msub1\u001b[00m\r\n",
      "│   ├── \u001b[01;34msub3\u001b[00m\r\n",
      "│   └── \u001b[01;34mtext_file\u001b[00m\r\n",
      "├── \u001b[01;34mHistorias Antiguas\u001b[00m\r\n",
      "├── \u001b[01;34mmetastore_db\u001b[00m\r\n",
      "│   ├── \u001b[01;34mlog\u001b[00m\r\n",
      "│   ├── \u001b[01;34mseg0\u001b[00m\r\n",
      "│   └── \u001b[01;34mtmp\u001b[00m\r\n",
      "├── \u001b[01;34mMusic\u001b[00m\r\n",
      "├── \u001b[01;34mone\u001b[00m\r\n",
      "│   ├── \u001b[01;34mb\u001b[00m\r\n",
      "│   ├── \u001b[01;34mc\u001b[00m\r\n",
      "│   ├── \u001b[01;34mcarpetaDestino\u001b[00m\r\n",
      "│   ├── \u001b[01;34mtwo\u001b[00m\r\n",
      "│   └── \u001b[01;34mtwoCopia\u001b[00m\r\n",
      "├── \u001b[01;34mPictures\u001b[00m\r\n",
      "├── \u001b[01;34mPublic\u001b[00m\r\n",
      "├── \u001b[01;34mR\u001b[00m\r\n",
      "│   └── \u001b[01;34mx86_64-pc-linux-gnu-library\u001b[00m\r\n",
      "├── \u001b[01;34mRepos\u001b[00m\r\n",
      "│   ├── \u001b[01;34m0001_Ejercicio_shell\u001b[00m\r\n",
      "│   ├── \u001b[01;34mcsvkit\u001b[00m\r\n",
      "│   ├── \u001b[01;34mfirst_dir\u001b[00m\r\n",
      "│   ├── \u001b[01;34mhello-world-master-datascience\u001b[00m\r\n",
      "│   ├── \u001b[01;34mlinux-shell-jupyter-notebooks\u001b[00m\r\n",
      "│   ├── \u001b[01;34mplaying-with-linux-shell\u001b[00m\r\n",
      "│   ├── \u001b[01;34mpostgres\u001b[00m\r\n",
      "│   └── \u001b[01;34mtesting\u001b[00m\r\n",
      "├── \u001b[01;34mTemplates\u001b[00m\r\n",
      "├── \u001b[01;34mvacio\u001b[00m\r\n",
      "│   └── \u001b[01;34motrahija\u001b[00m\r\n",
      "└── \u001b[01;34mVideos\u001b[00m\r\n",
      "\r\n",
      "71 directories\r\n"
     ]
    }
   ],
   "source": [
    "%cd\n",
    "! tree -d -L 2"
   ]
  },
  {
   "cell_type": "markdown",
   "metadata": {},
   "source": [
    "Note: -d: only folders. -L: depth."
   ]
  },
  {
   "cell_type": "markdown",
   "metadata": {},
   "source": [
    "* Go to ~/Data/shell/ and use Text_example.txt to generate a new file with the same content but with line number at the beginning of each line."
   ]
  },
  {
   "cell_type": "code",
   "execution_count": 33,
   "metadata": {},
   "outputs": [
    {
     "name": "stdout",
     "output_type": "stream",
     "text": [
      "/home/dsc/Data/shell\n",
      "     1\tTHIS LINE IS THE 1ST UPPER CASE LINE IN THIS FILE.\n",
      "     2\tthis line is the 1st lower case line in this file.\n",
      "     3\tThis Line Has All Its First Character Of The Word With Upper Case.\n",
      "     4\t\n",
      "     5\t\n",
      "     6\tTwo lines above this are empty.\n",
      "     7\tAnd this is the last line.\n"
     ]
    }
   ],
   "source": [
    "%cd ~/Data/shell\n",
    "! cat -n Text_example.txt >> Text_example_with_lines.txt\n",
    "! cat Text_example_with_lines.txt\n",
    "! rm -f Text_example_with_lines.txt"
   ]
  },
  {
   "cell_type": "markdown",
   "metadata": {},
   "source": [
    "* Generate a new file with twice the content of “Text_example.txt” inside. (one full text content after another)"
   ]
  },
  {
   "cell_type": "code",
   "execution_count": 34,
   "metadata": {},
   "outputs": [
    {
     "name": "stdout",
     "output_type": "stream",
     "text": [
      "/home/dsc/Data/shell\n",
      "THIS LINE IS THE 1ST UPPER CASE LINE IN THIS FILE.\n",
      "this line is the 1st lower case line in this file.\n",
      "This Line Has All Its First Character Of The Word With Upper Case.\n",
      "\n",
      "\n",
      "Two lines above this are empty.\n",
      "And this is the last line.\n",
      "THIS LINE IS THE 1ST UPPER CASE LINE IN THIS FILE.\n",
      "this line is the 1st lower case line in this file.\n",
      "This Line Has All Its First Character Of The Word With Upper Case.\n",
      "\n",
      "\n",
      "Two lines above this are empty.\n",
      "And this is the last line.\n"
     ]
    }
   ],
   "source": [
    "%cd ~/Data/shell\n",
    "! cat Text_example.txt Text_example.txt >> Text_example_duplicated.txt\n",
    "! cat Text_example_duplicated.txt\n",
    "! rm -f Text_example_duplicated.txt"
   ]
  },
  {
   "cell_type": "markdown",
   "metadata": {},
   "source": [
    "* Generate an file with creation timespam and name of the user who created it on the first line. Smthlike this: \"# This file  is created by KSCHOOL on:Sun Nov26 10:31:06 CET 2017\""
   ]
  },
  {
   "cell_type": "code",
   "execution_count": 35,
   "metadata": {},
   "outputs": [
    {
     "name": "stdout",
     "output_type": "stream",
     "text": [
      "/home/dsc/Data/shell\n",
      "This file  is created by dsc on 2018-12-08 14:37:07.749015665 +0100\n"
     ]
    }
   ],
   "source": [
    "%cd ~/Data/shell\n",
    "! touch file.txt\n",
    "\n",
    "! stat --format \"This file  is created by %U on %x\" file.txt\n",
    "\n",
    "! rm -f file.txt"
   ]
  },
  {
   "cell_type": "markdown",
   "metadata": {},
   "source": [
    "Note: %w is for time of file birth, but in my case it appeared \".\". I use %x, which is last access. "
   ]
  },
  {
   "cell_type": "markdown",
   "metadata": {},
   "source": [
    "## Cleaning environment "
   ]
  },
  {
   "cell_type": "code",
   "execution_count": 36,
   "metadata": {},
   "outputs": [
    {
     "name": "stdout",
     "output_type": "stream",
     "text": [
      "/home/dsc\n"
     ]
    }
   ],
   "source": [
    "%cd\n",
    "! rm -rf first_dir"
   ]
  }
 ],
 "metadata": {
  "kernelspec": {
   "display_name": "Python 3",
   "language": "python",
   "name": "python3"
  },
  "language_info": {
   "codemirror_mode": {
    "name": "ipython",
    "version": 3
   },
   "file_extension": ".py",
   "mimetype": "text/x-python",
   "name": "python",
   "nbconvert_exporter": "python",
   "pygments_lexer": "ipython3",
   "version": "3.6.4"
  }
 },
 "nbformat": 4,
 "nbformat_minor": 2
}
