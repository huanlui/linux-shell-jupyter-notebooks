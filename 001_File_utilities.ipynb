{
 "cells": [
  {
   "cell_type": "markdown",
   "metadata": {},
   "source": [
    "# File utilities"
   ]
  },
  {
   "cell_type": "markdown",
   "metadata": {},
   "source": [
    "Preparing environment. Take into account that _cd_ shell command and other do not work so we have to use _%cd_ instead."
   ]
  },
  {
   "cell_type": "code",
   "execution_count": 1,
   "metadata": {
    "scrolled": true
   },
   "outputs": [
    {
     "name": "stdout",
     "output_type": "stream",
     "text": [
      "/home/dsc\n"
     ]
    }
   ],
   "source": [
    "%cd\n",
    "! rm -r first_dir"
   ]
  },
  {
   "cell_type": "markdown",
   "metadata": {},
   "source": [
    "# Exercises\n"
   ]
  },
  {
   "cell_type": "markdown",
   "metadata": {},
   "source": [
    "* Create\ta\tdirectory\t“first_dir”\tin\tyou\thome\tfolder "
   ]
  },
  {
   "cell_type": "code",
   "execution_count": 2,
   "metadata": {},
   "outputs": [
    {
     "name": "stdout",
     "output_type": "stream",
     "text": [
      "anaconda3  Downloads\t\t     metastore_db  Repos\t     vacio\r\n",
      "basura\t   first_dir\t\t     Music\t   salida.sh\t     Videos\r\n",
      "Data\t   first_Dir_2\t\t     one\t   size\r\n",
      "derby.log  first_linux_commands.txt  Pictures\t   size_of_file.txt\r\n",
      "Desktop    hello_file\t\t     Public\t   Templates\r\n",
      "Documents  Historias Antiguas\t     R\t\t   uniq_example.txt\r\n"
     ]
    }
   ],
   "source": [
    "! mkdir first_dir\n",
    "! ls"
   ]
  },
  {
   "cell_type": "markdown",
   "metadata": {},
   "source": [
    " * Create\tan\tempty\tfile\t“text_file.txt”\tinside\t“first_dir”\tdirectory.\t"
   ]
  },
  {
   "cell_type": "code",
   "execution_count": 3,
   "metadata": {},
   "outputs": [
    {
     "name": "stdout",
     "output_type": "stream",
     "text": [
      "/home/dsc/first_dir\n",
      "text_file.txt\n"
     ]
    }
   ],
   "source": [
    "%cd first_dir\n",
    "! touch text_file.txt\n",
    "! ls"
   ]
  },
  {
   "cell_type": "markdown",
   "metadata": {},
   "source": [
    "* Add\texecute\tpermissions\tto\tgroup\tusers,\tand\twrite\tpermissions\tto\tother\tusers\tto\t“text_file.txt”\t"
   ]
  },
  {
   "cell_type": "code",
   "execution_count": 4,
   "metadata": {},
   "outputs": [
    {
     "name": "stdout",
     "output_type": "stream",
     "text": [
      "-rw-r--r-- 1 dsc dsc 0 dic  8 00:37 text_file.txt\n",
      "-rw-r-xrw- 1 dsc dsc 0 dic  8 00:37 text_file.txt\n"
     ]
    }
   ],
   "source": [
    "! ls -alt text_file.txt\n",
    "! chmod g+x,o+w text_file.txt\n",
    "! ls -alt text_file.txt"
   ]
  },
  {
   "cell_type": "markdown",
   "metadata": {},
   "source": [
    "* Create 3 subdirectories inside “first_dir”: “sub1”, “sub2”, “text_file\""
   ]
  },
  {
   "cell_type": "code",
   "execution_count": 5,
   "metadata": {},
   "outputs": [
    {
     "name": "stdout",
     "output_type": "stream",
     "text": [
      "sub1  sub2  text_file  text_file.txt\r\n"
     ]
    }
   ],
   "source": [
    "! mkdir sub1 sub2 text_file\n",
    "! ls"
   ]
  },
  {
   "cell_type": "markdown",
   "metadata": {},
   "source": [
    "* Copy the \"text_file.txt\" file into \"sub1\" subdirectory"
   ]
  },
  {
   "cell_type": "code",
   "execution_count": 6,
   "metadata": {},
   "outputs": [
    {
     "name": "stdout",
     "output_type": "stream",
     "text": [
      ".:\r\n",
      "sub1  sub2  text_file  text_file.txt\r\n",
      "\r\n",
      "./sub1:\r\n",
      "text_file.txt\r\n",
      "\r\n",
      "./sub2:\r\n",
      "\r\n",
      "./text_file:\r\n"
     ]
    }
   ],
   "source": [
    "! cp text_file.txt sub1\n",
    "! ls -R"
   ]
  },
  {
   "cell_type": "markdown",
   "metadata": {},
   "source": [
    "* Move the \"text_file.txt\" into sub2 unser name \"text_file.txt.2\""
   ]
  },
  {
   "cell_type": "code",
   "execution_count": 7,
   "metadata": {},
   "outputs": [
    {
     "name": "stdout",
     "output_type": "stream",
     "text": [
      ".:\r\n",
      "sub1  sub2  text_file\r\n",
      "\r\n",
      "./sub1:\r\n",
      "text_file.txt\r\n",
      "\r\n",
      "./sub2:\r\n",
      "text_file.txt.2\r\n",
      "\r\n",
      "./text_file:\r\n"
     ]
    }
   ],
   "source": [
    "! mv text_file.txt sub2/text_file.txt.2\n",
    "! ls -R"
   ]
  },
  {
   "cell_type": "markdown",
   "metadata": {},
   "source": [
    "* Copy the whole directory \"sub1\" to \"sub3\" directory"
   ]
  },
  {
   "cell_type": "code",
   "execution_count": 8,
   "metadata": {},
   "outputs": [
    {
     "name": "stdout",
     "output_type": "stream",
     "text": [
      ".:\r\n",
      "sub1  sub2  sub3  text_file\r\n",
      "\r\n",
      "./sub1:\r\n",
      "text_file.txt\r\n",
      "\r\n",
      "./sub2:\r\n",
      "text_file.txt.2\r\n",
      "\r\n",
      "./sub3:\r\n",
      "text_file.txt\r\n",
      "\r\n",
      "./text_file:\r\n"
     ]
    }
   ],
   "source": [
    "! cp -r sub1 sub3\n",
    "! ls -R"
   ]
  },
  {
   "cell_type": "markdown",
   "metadata": {},
   "source": [
    "* Change file name of \"first_dir/sub2/text_file.txt.2\" to \"first_dir/sub2/text_file.txt.backup\""
   ]
  },
  {
   "cell_type": "code",
   "execution_count": 9,
   "metadata": {
    "scrolled": true
   },
   "outputs": [
    {
     "name": "stdout",
     "output_type": "stream",
     "text": [
      ".:\r\n",
      "sub1  sub2  sub3  text_file\r\n",
      "\r\n",
      "./sub1:\r\n",
      "text_file.txt\r\n",
      "\r\n",
      "./sub2:\r\n",
      "text_file.txt.backup\r\n",
      "\r\n",
      "./sub3:\r\n",
      "text_file.txt\r\n",
      "\r\n",
      "./text_file:\r\n"
     ]
    }
   ],
   "source": [
    "! mv sub2/text_file.txt.2 sub2/text_file.txt.backup\n",
    "! ls -R"
   ]
  },
  {
   "cell_type": "markdown",
   "metadata": {},
   "source": [
    "Move \"first_dir/sub2/text_file.txt.backup\" to \"first_dir\" directory as hidden file"
   ]
  },
  {
   "cell_type": "code",
   "execution_count": 10,
   "metadata": {},
   "outputs": [
    {
     "name": "stdout",
     "output_type": "stream",
     "text": [
      ".:\r\n",
      ".  ..  sub1  sub2  sub3  text_file  .text_file.txt.backup\r\n",
      "\r\n",
      "./sub1:\r\n",
      ".  ..  text_file.txt\r\n",
      "\r\n",
      "./sub2:\r\n",
      ".  ..\r\n",
      "\r\n",
      "./sub3:\r\n",
      ".  ..  text_file.txt\r\n",
      "\r\n",
      "./text_file:\r\n",
      ".  ..\r\n"
     ]
    }
   ],
   "source": [
    "! mv sub2/text_file.txt.backup .text_file.txt.backup\n",
    "! ls -Ra"
   ]
  },
  {
   "cell_type": "markdown",
   "metadata": {},
   "source": [
    "Note: hidden files begin with '.' in linux"
   ]
  },
  {
   "cell_type": "markdown",
   "metadata": {},
   "source": [
    "* Clean environment "
   ]
  },
  {
   "cell_type": "code",
   "execution_count": 11,
   "metadata": {},
   "outputs": [
    {
     "name": "stdout",
     "output_type": "stream",
     "text": [
      "/home/dsc\n"
     ]
    }
   ],
   "source": [
    "%cd\n",
    "! rm -r first_dir"
   ]
  }
 ],
 "metadata": {
  "kernelspec": {
   "display_name": "Python 3",
   "language": "python",
   "name": "python3"
  },
  "language_info": {
   "codemirror_mode": {
    "name": "ipython",
    "version": 3
   },
   "file_extension": ".py",
   "mimetype": "text/x-python",
   "name": "python",
   "nbconvert_exporter": "python",
   "pygments_lexer": "ipython3",
   "version": "3.6.4"
  }
 },
 "nbformat": 4,
 "nbformat_minor": 2
}
