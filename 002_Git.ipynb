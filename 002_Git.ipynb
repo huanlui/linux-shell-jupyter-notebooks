{
 "cells": [
  {
   "cell_type": "markdown",
   "metadata": {},
   "source": [
    "# Git"
   ]
  },
  {
   "cell_type": "markdown",
   "metadata": {},
   "source": [
    "A set of exercises to practise with git. "
   ]
  },
  {
   "cell_type": "markdown",
   "metadata": {},
   "source": [
    "## Preparing environment. "
   ]
  },
  {
   "cell_type": "markdown",
   "metadata": {},
   "source": [
    "Take into account that _cd_ shell command and other do not work so we have to use _%cd_ or %env instead."
   ]
  },
  {
   "cell_type": "code",
   "execution_count": 62,
   "metadata": {
    "scrolled": true
   },
   "outputs": [
    {
     "name": "stdout",
     "output_type": "stream",
     "text": [
      "env: FOLDER_NAME=my_repo\n",
      "/home/dsc/Repos\n"
     ]
    }
   ],
   "source": [
    "FOLDER_NAME=\"my_repo\"\n",
    "%env FOLDER_NAME=my_repo\n",
    "%cd ~/Repos\n",
    "! rm -rf $FOLDER_NAME"
   ]
  },
  {
   "cell_type": "markdown",
   "metadata": {},
   "source": [
    "## Firsts steps\n"
   ]
  },
  {
   "cell_type": "markdown",
   "metadata": {},
   "source": [
    "* Check if git is installed"
   ]
  },
  {
   "cell_type": "code",
   "execution_count": 63,
   "metadata": {},
   "outputs": [
    {
     "name": "stdout",
     "output_type": "stream",
     "text": [
      "git version 2.14.1\r\n"
     ]
    }
   ],
   "source": [
    "! git --version"
   ]
  },
  {
   "cell_type": "markdown",
   "metadata": {},
   "source": [
    "* Create a folder and init a git repo inside it. Note that git creates a hidden folder called _.git_ where it keeps track of all the changes you make and much more. "
   ]
  },
  {
   "cell_type": "code",
   "execution_count": 64,
   "metadata": {},
   "outputs": [
    {
     "name": "stdout",
     "output_type": "stream",
     "text": [
      "/home/dsc/Repos/my_repo\n",
      "Initialized empty Git repository in /home/dsc/Repos/my_repo/.git/\n",
      "total 12\n",
      "drwxr-xr-x  7 dsc dsc 4096 dic  8 11:03 .git\n",
      "drwxr-xr-x  3 dsc dsc 4096 dic  8 11:03 .\n",
      "drwxr-xr-x 11 dsc dsc 4096 dic  8 11:03 ..\n"
     ]
    }
   ],
   "source": [
    "! mkdir $FOLDER_NAME\n",
    "%cd $FOLDER_NAME\n",
    "! git init\n",
    "! ls -alt\n"
   ]
  },
  {
   "cell_type": "markdown",
   "metadata": {},
   "source": [
    "* If for some reason you run git init in a folder you didn’t intend to make a git repository, you can simply remove the .git folder."
   ]
  },
  {
   "cell_type": "code",
   "execution_count": 65,
   "metadata": {},
   "outputs": [
    {
     "name": "stdout",
     "output_type": "stream",
     "text": [
      "total 8\r\n",
      "drwxr-xr-x  2 dsc dsc 4096 dic  8 11:03 .\r\n",
      "drwxr-xr-x 11 dsc dsc 4096 dic  8 11:03 ..\r\n"
     ]
    }
   ],
   "source": [
    "! rm -rf .git\n",
    "! ls -alt"
   ]
  },
  {
   "cell_type": "markdown",
   "metadata": {},
   "source": [
    "* Init repository again"
   ]
  },
  {
   "cell_type": "code",
   "execution_count": 66,
   "metadata": {},
   "outputs": [
    {
     "name": "stdout",
     "output_type": "stream",
     "text": [
      "Initialized empty Git repository in /home/dsc/Repos/my_repo/.git/\n",
      "total 12\n",
      "drwxr-xr-x  7 dsc dsc 4096 dic  8 11:03 .git\n",
      "drwxr-xr-x  3 dsc dsc 4096 dic  8 11:03 .\n",
      "drwxr-xr-x 11 dsc dsc 4096 dic  8 11:03 ..\n"
     ]
    }
   ],
   "source": [
    "! git init\n",
    "! ls -alt "
   ]
  },
  {
   "cell_type": "markdown",
   "metadata": {},
   "source": [
    "* Create a file and watch git status. Appears it as untracked. Out file is just in the called _working directory_, that is, is our file system. "
   ]
  },
  {
   "cell_type": "code",
   "execution_count": 67,
   "metadata": {},
   "outputs": [
    {
     "name": "stdout",
     "output_type": "stream",
     "text": [
      "On branch master\r\n",
      "\r\n",
      "No commits yet\r\n",
      "\r\n",
      "Untracked files:\r\n",
      "  (use \"git add <file>...\" to include in what will be committed)\r\n",
      "\r\n",
      "\t\u001b[31mfile.txt\u001b[m\r\n",
      "\r\n",
      "nothing added to commit but untracked files present (use \"git add\" to track)\r\n"
     ]
    }
   ],
   "source": [
    "! touch file.txt\n",
    "! git status"
   ]
  },
  {
   "cell_type": "markdown",
   "metadata": {},
   "source": [
    "## Staging area"
   ]
  },
  {
   "cell_type": "markdown",
   "metadata": {},
   "source": [
    "* We want to track this file with git. We are going to add it to the called _staging area_ and watch status again"
   ]
  },
  {
   "cell_type": "code",
   "execution_count": 68,
   "metadata": {},
   "outputs": [
    {
     "name": "stdout",
     "output_type": "stream",
     "text": [
      "On branch master\r\n",
      "\r\n",
      "No commits yet\r\n",
      "\r\n",
      "Changes to be committed:\r\n",
      "  (use \"git rm --cached <file>...\" to unstage)\r\n",
      "\r\n",
      "\t\u001b[32mnew file:   file.txt\u001b[m\r\n",
      "\r\n"
     ]
    }
   ],
   "source": [
    "! git add file.txt\n",
    "! git status"
   ]
  },
  {
   "cell_type": "markdown",
   "metadata": {},
   "source": [
    "* Several files can be staged at once"
   ]
  },
  {
   "cell_type": "code",
   "execution_count": 69,
   "metadata": {},
   "outputs": [
    {
     "name": "stdout",
     "output_type": "stream",
     "text": [
      "On branch master\r\n",
      "\r\n",
      "No commits yet\r\n",
      "\r\n",
      "Changes to be committed:\r\n",
      "  (use \"git rm --cached <file>...\" to unstage)\r\n",
      "\r\n",
      "\t\u001b[32mnew file:   file.txt\u001b[m\r\n",
      "\t\u001b[32mnew file:   file2.txt\u001b[m\r\n",
      "\t\u001b[32mnew file:   file3.txt\u001b[m\r\n",
      "\r\n",
      "Untracked files:\r\n",
      "  (use \"git add <file>...\" to include in what will be committed)\r\n",
      "\r\n",
      "\t\u001b[31mfile4.txt\u001b[m\r\n",
      "\r\n"
     ]
    }
   ],
   "source": [
    "! touch file2.txt file3.txt file4.txt\n",
    "! git add file2.txt file3.txt\n",
    "! git status"
   ]
  },
  {
   "cell_type": "markdown",
   "metadata": {},
   "source": [
    "Observe that file4.txt, not added, appears as untracked"
   ]
  },
  {
   "cell_type": "markdown",
   "metadata": {},
   "source": [
    "* If I want to stage all the files, -A optios is for you. Use it carefully.  "
   ]
  },
  {
   "cell_type": "code",
   "execution_count": 70,
   "metadata": {},
   "outputs": [
    {
     "name": "stdout",
     "output_type": "stream",
     "text": [
      "On branch master\r\n",
      "\r\n",
      "No commits yet\r\n",
      "\r\n",
      "Changes to be committed:\r\n",
      "  (use \"git rm --cached <file>...\" to unstage)\r\n",
      "\r\n",
      "\t\u001b[32mnew file:   file.txt\u001b[m\r\n",
      "\t\u001b[32mnew file:   file2.txt\u001b[m\r\n",
      "\t\u001b[32mnew file:   file3.txt\u001b[m\r\n",
      "\t\u001b[32mnew file:   file4.txt\u001b[m\r\n",
      "\t\u001b[32mnew file:   file5.txt\u001b[m\r\n",
      "\r\n"
     ]
    }
   ],
   "source": [
    "! touch file5.txt\n",
    "! git add -A\n",
    "! git status"
   ]
  },
  {
   "cell_type": "markdown",
   "metadata": {},
   "source": [
    "Note that both file4.txt and new file5.txt have been added. "
   ]
  },
  {
   "cell_type": "markdown",
   "metadata": {},
   "source": [
    "* A file can be removed from stage zone by using git reset"
   ]
  },
  {
   "cell_type": "code",
   "execution_count": 71,
   "metadata": {},
   "outputs": [
    {
     "name": "stdout",
     "output_type": "stream",
     "text": [
      "On branch master\r\n",
      "\r\n",
      "No commits yet\r\n",
      "\r\n",
      "Changes to be committed:\r\n",
      "  (use \"git rm --cached <file>...\" to unstage)\r\n",
      "\r\n",
      "\t\u001b[32mnew file:   file.txt\u001b[m\r\n",
      "\t\u001b[32mnew file:   file2.txt\u001b[m\r\n",
      "\t\u001b[32mnew file:   file3.txt\u001b[m\r\n",
      "\t\u001b[32mnew file:   file4.txt\u001b[m\r\n",
      "\r\n",
      "Untracked files:\r\n",
      "  (use \"git add <file>...\" to include in what will be committed)\r\n",
      "\r\n",
      "\t\u001b[31mfile5.txt\u001b[m\r\n",
      "\r\n"
     ]
    }
   ],
   "source": [
    "! git reset file5.txt\n",
    "! git status"
   ]
  },
  {
   "cell_type": "markdown",
   "metadata": {},
   "source": [
    "## _Commit_ changes to repository"
   ]
  },
  {
   "cell_type": "markdown",
   "metadata": {},
   "source": [
    "* To move files in the _staging area_ to the repository we use _commit_ command. We have _confirmed_ our changes and git will store a snapshot of the state of the repository. "
   ]
  },
  {
   "cell_type": "code",
   "execution_count": 72,
   "metadata": {},
   "outputs": [
    {
     "name": "stdout",
     "output_type": "stream",
     "text": [
      "[master (root-commit) ae7a43c] This is a message where you have to describe your changes. It is inmportant to write meaningful commit messasges\n",
      " 4 files changed, 0 insertions(+), 0 deletions(-)\n",
      " create mode 100644 file.txt\n",
      " create mode 100644 file2.txt\n",
      " create mode 100644 file3.txt\n",
      " create mode 100644 file4.txt\n",
      "On branch master\n",
      "Untracked files:\n",
      "  (use \"git add <file>...\" to include in what will be committed)\n",
      "\n",
      "\t\u001b[31mfile5.txt\u001b[m\n",
      "\n",
      "nothing added to commit but untracked files present (use \"git add\" to track)\n"
     ]
    }
   ],
   "source": [
    "! git commit -m \"This is a message where you have to describe your changes. It is inmportant to write meaningful commit messasges\"\n",
    "! git status"
   ]
  },
  {
   "cell_type": "markdown",
   "metadata": {},
   "source": [
    "This image can help to understand the process:\n",
    "\n",
    "![Add and commit](img/add_commit.png)"
   ]
  },
  {
   "cell_type": "markdown",
   "metadata": {},
   "source": [
    "To see the changes log we will use git log  "
   ]
  },
  {
   "cell_type": "code",
   "execution_count": 73,
   "metadata": {},
   "outputs": [
    {
     "name": "stdout",
     "output_type": "stream",
     "text": [
      "\u001b[33mcommit ae7a43c1694ed742c30d5239bf2f78df39b761aa\u001b[m\u001b[33m (\u001b[m\u001b[1;36mHEAD -> \u001b[m\u001b[1;32mmaster\u001b[m\u001b[33m)\u001b[m\r\n",
      "Author: Juan Luis García López <juanluisgarcialopez@outlook.es>\r\n",
      "Date:   Sat Dec 8 11:03:38 2018 +0100\r\n",
      "\r\n",
      "    This is a message where you have to describe your changes. It is inmportant to write meaningful commit messasges\r\n"
     ]
    }
   ],
   "source": [
    "! git log\n"
   ]
  },
  {
   "cell_type": "markdown",
   "metadata": {},
   "source": [
    "##  Remote repository\n",
    "\n",
    "The usual procedure is to have a remote repository on the Cloud (_Github, Gitlab, Bitbucket,_ ...) to synchronize our local one into it. \n",
    "\n",
    "* To add a remote repository (we can have several) use:\n",
    "\n",
    "```shell\n",
    "git remote add origin https://github.com/youruser/yourrepo.git\n",
    "```\n",
    "\n",
    "Note: _origin_ is the name we have set to our remote repository. You can choose whatever you want. However, if we have one, the convention is to name it as _origin_. \n",
    "\n",
    "* To push your commits to the remote repository, use _git push_:\n",
    "\n",
    "```shell\n",
    "git push \n",
    "```\n",
    "\n",
    "* To push your commits to a concrete remote repository, if you had several ones, use:\n",
    "\n",
    "```shell\n",
    "git push -u origin \n",
    "```\n",
    "\n",
    "* To bring the remote changes into our repository use git pull\n",
    "\n",
    "```shell\n",
    "git push \n",
    "```\n",
    "Note that in all cases you will need your _Github/Gitlab/Bitbucket_ credentials. All these commands are not executed in Jupyter Notebook because I do not want to give my password :) "
   ]
  },
  {
   "cell_type": "markdown",
   "metadata": {},
   "source": [
    "##  Summary"
   ]
  },
  {
   "cell_type": "markdown",
   "metadata": {},
   "source": [
    "This image can summarize the whole process:\n",
    "\n",
    "![Add and commit](img/process.webp)"
   ]
  },
  {
   "cell_type": "markdown",
   "metadata": {},
   "source": [
    "## Clean environment "
   ]
  },
  {
   "cell_type": "code",
   "execution_count": 74,
   "metadata": {},
   "outputs": [
    {
     "name": "stdout",
     "output_type": "stream",
     "text": [
      "/home/dsc/Repos\n"
     ]
    }
   ],
   "source": [
    "%cd ~/Repos\n",
    "! rm -rf $FOLDER_NAME"
   ]
  },
  {
   "cell_type": "markdown",
   "metadata": {},
   "source": [
    "| Juan Luis García López (@huanlui)  | | |                 \n",
    ":-------------------------:|:-------------------------:|:-------------------------:\n",
    "|| [![Github profile](img/github.png)](https://github.com/huanlui)  |   [![Twitter profile](img/twitter.png)](https://twitter.com/huanlui) |  [![Linkedin profile](img/linkedin.png)](https://www.linkedin.com/in/juan-luis-garcía-lópez-99057138)"
   ]
  }
 ],
 "metadata": {
  "kernelspec": {
   "display_name": "Python 3",
   "language": "python",
   "name": "python3"
  },
  "language_info": {
   "codemirror_mode": {
    "name": "ipython",
    "version": 3
   },
   "file_extension": ".py",
   "mimetype": "text/x-python",
   "name": "python",
   "nbconvert_exporter": "python",
   "pygments_lexer": "ipython3",
   "version": "3.6.4"
  }
 },
 "nbformat": 4,
 "nbformat_minor": 2
}
