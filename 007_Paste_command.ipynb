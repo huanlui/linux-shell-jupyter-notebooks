{
 "cells": [
  {
   "cell_type": "markdown",
   "metadata": {},
   "source": [
    "#  Paste command"
   ]
  },
  {
   "cell_type": "markdown",
   "metadata": {},
   "source": [
    "Concatenate horizontally; Merge lines of files in parallel. TO DO: Check this command, because I do not understand some things. Check https://www.geeksforgeeks.org/paste-command-linux-examples/\n"
   ]
  },
  {
   "cell_type": "markdown",
   "metadata": {},
   "source": [
    "* Without any options do the same and is as good as the cat command when operated on a single file"
   ]
  },
  {
   "cell_type": "code",
   "execution_count": 3,
   "metadata": {},
   "outputs": [
    {
     "name": "stdout",
     "output_type": "stream",
     "text": [
      "1\r\n",
      "2\r\n",
      "3\r\n",
      "4\r\n",
      "5\r\n",
      "6\r\n",
      "7\r\n",
      "8\r\n",
      "9\r\n",
      "10\r\n"
     ]
    }
   ],
   "source": [
    "! seq 10 | paste"
   ]
  },
  {
   "cell_type": "markdown",
   "metadata": {},
   "source": [
    "* -s, --serial:  joins all the lines in a file"
   ]
  },
  {
   "cell_type": "code",
   "execution_count": 4,
   "metadata": {},
   "outputs": [
    {
     "name": "stdout",
     "output_type": "stream",
     "text": [
      "1\t2\t3\t4\t5\t6\t7\t8\t9\t10\r\n"
     ]
    }
   ],
   "source": [
    "! seq 10 | paste -s"
   ]
  },
  {
   "cell_type": "markdown",
   "metadata": {},
   "source": [
    "* -d, --delimiters=LIST : reuse characters from LIST instead of TABs (default delimiter)  "
   ]
  },
  {
   "cell_type": "code",
   "execution_count": 5,
   "metadata": {},
   "outputs": [
    {
     "name": "stdout",
     "output_type": "stream",
     "text": [
      "1,2,3,4,5,6,7,8,9,10\r\n"
     ]
    }
   ],
   "source": [
    "! seq 10 | paste -s -d \",\""
   ]
  },
  {
   "cell_type": "markdown",
   "metadata": {},
   "source": [
    "* Note that a delimiter list can be passed and it uses this way"
   ]
  },
  {
   "cell_type": "code",
   "execution_count": 6,
   "metadata": {},
   "outputs": [
    {
     "name": "stdout",
     "output_type": "stream",
     "text": [
      "1,2.3;4,5.6;7,8.9;10\r\n"
     ]
    }
   ],
   "source": [
    "! seq 10 | paste -s -d \",.;\""
   ]
  },
  {
   "cell_type": "markdown",
   "metadata": {},
   "source": [
    "* ---... -: number of columns of the output"
   ]
  },
  {
   "cell_type": "code",
   "execution_count": 7,
   "metadata": {},
   "outputs": [
    {
     "name": "stdout",
     "output_type": "stream",
     "text": [
      "1\t2\t3\r\n",
      "4\t5\t6\r\n",
      "7\t8\t9\r\n",
      "10\t\t\r\n"
     ]
    }
   ],
   "source": [
    "! seq 10 | paste - - -"
   ]
  },
  {
   "cell_type": "markdown",
   "metadata": {},
   "source": [
    "* Columns can be combined with delimiter. On each line the delimiter use is reset. So in this case \";\" is not used"
   ]
  },
  {
   "cell_type": "code",
   "execution_count": 8,
   "metadata": {},
   "outputs": [
    {
     "name": "stdout",
     "output_type": "stream",
     "text": [
      "1,2.3\r\n",
      "4,5.6\r\n",
      "7,8.9\r\n",
      "10,.\r\n"
     ]
    }
   ],
   "source": [
    "! seq 10 | paste - - - -d \",.;\""
   ]
  },
  {
   "cell_type": "markdown",
   "metadata": {},
   "source": [
    "* Concatenate horizontally; Merge lines of files"
   ]
  },
  {
   "cell_type": "code",
   "execution_count": 9,
   "metadata": {},
   "outputs": [
    {
     "name": "stdout",
     "output_type": "stream",
     "text": [
      "/home/dsc/Data/shell\n",
      "1\tTHIS LINE IS THE 1ST UPPER CASE LINE IN THIS FILE.\n",
      "2\tthis line is the 1st lower case line in this file.\n",
      "3\tThis Line Has All Its First Character Of The Word With Upper Case.\n",
      "4\t\n",
      "5\t\n",
      "6\tTwo lines above this are empty.\n",
      "7\tAnd this is the last line.\n",
      "8\t\n",
      "9\t\n",
      "10\t\n"
     ]
    }
   ],
   "source": [
    "% cd ~/Data/shell\n",
    "! seq 1 10 > numbers\n",
    "\n",
    "! paste numbers Text_example.txt "
   ]
  },
  {
   "cell_type": "markdown",
   "metadata": {},
   "source": [
    "* <()-take stdinfrom the evaluation of the expression within the parenthesis. From notebook it does not work. Anyway, paste command is not working as I expected neither from notebook either from console"
   ]
  },
  {
   "cell_type": "code",
   "execution_count": 13,
   "metadata": {},
   "outputs": [
    {
     "name": "stdout",
     "output_type": "stream",
     "text": [
      "/bin/sh: 1: cannot open seq: No such file\r\n"
     ]
    }
   ],
   "source": [
    "! paste <(seq 10) <(seq 15)"
   ]
  },
  {
   "cell_type": "markdown",
   "metadata": {},
   "source": [
    "<div style=\"text-align:right\">\n",
    "Juan Luis García López (@huanlui)\n",
    "<a href=\"https://github.com/huanlui\" class=\"fa fa-github\"> Github </a>\n",
    "<a href=\"https://twitter.com/huanlui\" class=\"fa fa-twitter\"> Twitter </a>\n",
    "<a href=\"https://www.linkedin.com/in/juan-luis-garcía-lópez-99057138\" class=\"fa fa-linkedin\"> Linkedin </a>\n",
    "<div>\n",
    "    "
   ]
  }
 ],
 "metadata": {
  "kernelspec": {
   "display_name": "Python 3",
   "language": "python",
   "name": "python3"
  },
  "language_info": {
   "codemirror_mode": {
    "name": "ipython",
    "version": 3
   },
   "file_extension": ".py",
   "mimetype": "text/x-python",
   "name": "python",
   "nbconvert_exporter": "python",
   "pygments_lexer": "ipython3",
   "version": "3.6.4"
  }
 },
 "nbformat": 4,
 "nbformat_minor": 2
}
