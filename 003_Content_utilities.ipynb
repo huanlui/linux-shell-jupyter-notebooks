{
 "cells": [
  {
   "cell_type": "markdown",
   "metadata": {},
   "source": [
    "#  Content"
   ]
  },
  {
   "cell_type": "markdown",
   "metadata": {},
   "source": [
    "A set of exercises to practice with file content management from Linux shell"
   ]
  },
  {
   "cell_type": "markdown",
   "metadata": {},
   "source": [
    "* Save the information of 3 largest files located inside ~/Data/us_dot/otp/ into a three_largest_file.txt. (hint: use ls with sort option and pipe the result"
   ]
  },
  {
   "cell_type": "code",
   "execution_count": 48,
   "metadata": {},
   "outputs": [
    {
     "name": "stdout",
     "output_type": "stream",
     "text": [
      "/home/dsc/Data/us_dot/otp\n",
      "-rwxr-x--- 1 dsc dsc 26204213 mar 13  2018 On_Time_On_Time_Performance_2015_7.zip\n",
      "-rwxr-x--- 1 dsc dsc 25758350 mar 13  2018 On_Time_On_Time_Performance_2015_6.zip\n",
      "-rwxr-x--- 1 dsc dsc 25726054 mar 13  2018 On_Time_On_Time_Performance_2015_8.zip\n"
     ]
    }
   ],
   "source": [
    "! rm -f three_largest_file.txt\n",
    "%cd ~/Data/us_dot/otp/\n",
    "\n",
    "! ls -lS | tail -n +2 | head -n 3 > three_largest_file.txt\n",
    "\n",
    "! cat three_largest_file.txt\n",
    "! rm -f three_largest_file.txt\n"
   ]
  },
  {
   "cell_type": "markdown",
   "metadata": {},
   "source": [
    "```tail -n + 2``` to show text FROM  line 2\n",
    "```head -n 3``` to show three first \n",
    "lines"
   ]
  },
  {
   "cell_type": "markdown",
   "metadata": {},
   "source": [
    "* Save last 20 commands used at command line to a file. (hint use history and redirect the output)"
   ]
  },
  {
   "cell_type": "code",
   "execution_count": 49,
   "metadata": {},
   "outputs": [
    {
     "name": "stdout",
     "output_type": "stream",
     "text": [
      "/home/dsc\n",
      "man find\n",
      "cd \n",
      "find  -mindepth 2 -maxdepth 2 -not -perm 777 -empty -type f -exec ls -l {} \\;~\n",
      "find  -mindepth 2 -maxdepth 2 -not -perm 777 -empty -type f -exec ls -l {} \\;\n",
      "find  -mindepth 2 -maxdepth 2 -not -perm 777 -empty -type f -ok ls -l {} \\;\n",
      "ls -S\n",
      "ls -Sl\n",
      "cdRepos\n",
      "cd Repos\n",
      "cd linux-shell-jupyter-notebooks\n",
      "git status\n",
      "git add -A\n",
      "git status\n",
      "git commit -m \"Created exercises with find command\"\n",
      "git push\n",
      "git status\n",
      "git add 004_Find_command.ipynb\n",
      "git commit -m \"Include change on find command, forgotten in previous commit\"\n",
      "git status\n",
      "git push\n"
     ]
    }
   ],
   "source": [
    "%cd \n",
    "! rm -f last_20\n",
    "\n",
    "! tail -n 20 .history > last_20\n",
    "\n",
    "! cat last_20\n",
    "! rm -f last_20"
   ]
  },
  {
   "cell_type": "markdown",
   "metadata": {},
   "source": [
    "tail -n 20 shows 20 lines. \n",
    "```> file_name```  saves output to file "
   ]
  },
  {
   "cell_type": "markdown",
   "metadata": {},
   "source": [
    "* Print first 3 lines of ~/Data/shell/Text_example.txt"
   ]
  },
  {
   "cell_type": "code",
   "execution_count": 50,
   "metadata": {},
   "outputs": [
    {
     "name": "stdout",
     "output_type": "stream",
     "text": [
      "     1\tTHIS LINE IS THE 1ST UPPER CASE LINE IN THIS FILE.\r",
      "\r\n",
      "     2\tthis line is the 1st lower case line in this file.\r",
      "\r\n",
      "     3\tThis Line Has All Its First Character Of The Word With Upper Case.\r",
      "\r\n"
     ]
    }
   ],
   "source": [
    "! cat -n  ~/Data/shell/Text_example.txt | head -n 3 "
   ]
  },
  {
   "cell_type": "markdown",
   "metadata": {},
   "source": [
    "Use ```-n``` to assure that the result is correct , showing line numbers.\n",
    "\n",
    "Another solution:"
   ]
  },
  {
   "cell_type": "code",
   "execution_count": 51,
   "metadata": {},
   "outputs": [
    {
     "name": "stdout",
     "output_type": "stream",
     "text": [
      "THIS LINE IS THE 1ST UPPER CASE LINE IN THIS FILE.\r",
      "\r\n",
      "this line is the 1st lower case line in this file.\r",
      "\r\n",
      "This Line Has All Its First Character Of The Word With Upper Case.\r",
      "\r\n"
     ]
    }
   ],
   "source": [
    "! head -n  3 ~/Data/shell/Text_example.txt "
   ]
  },
  {
   "cell_type": "markdown",
   "metadata": {},
   "source": [
    "* Print content of ~/Data/shell/Text_example.txt except first 2 and last 3 lines "
   ]
  },
  {
   "cell_type": "code",
   "execution_count": 52,
   "metadata": {},
   "outputs": [
    {
     "name": "stdout",
     "output_type": "stream",
     "text": [
      "     1\tTHIS LINE IS THE 1ST UPPER CASE LINE IN THIS FILE.\n",
      "     2\tthis line is the 1st lower case line in this file.\n",
      "     3\tThis Line Has All Its First Character Of The Word With Upper Case.\n",
      "     4\t\n",
      "     5\t\n",
      "     6\tTwo lines above this are empty.\n",
      "     7\tAnd this is the last line.\n",
      "\n",
      "     3\tThis Line Has All Its First Character Of The Word With Upper Case.\n",
      "     4\t\n"
     ]
    }
   ],
   "source": [
    "! cat -n ~/Data/shell/Text_example.txt\n",
    "! echo \"\"\n",
    "\n",
    "! cat -n ~/Data/shell/Text_example.txt | tail -n +3 | head -n -3"
   ]
  },
  {
   "cell_type": "markdown",
   "metadata": {},
   "source": [
    "Use ```-n``` to assure that the result is correct , showing line numbers.\n",
    "\n",
    "Another solution:\n"
   ]
  },
  {
   "cell_type": "code",
   "execution_count": 53,
   "metadata": {},
   "outputs": [
    {
     "name": "stdout",
     "output_type": "stream",
     "text": [
      "This Line Has All Its First Character Of The Word With Upper Case.\r",
      "\r\n",
      "\r",
      "\r\n"
     ]
    }
   ],
   "source": [
    "! tail ~/Data/shell/Text_example.txt  -n +3 | head -n -3"
   ]
  },
  {
   "cell_type": "markdown",
   "metadata": {},
   "source": [
    "* How many lines does ~/Data/opentraveldata/optd_aircraft.csv file have?"
   ]
  },
  {
   "cell_type": "code",
   "execution_count": 54,
   "metadata": {},
   "outputs": [
    {
     "name": "stdout",
     "output_type": "stream",
     "text": [
      "   458\tYS1^NAMC^YS-11^YS1^2T^YS11^2^T\n",
      "458 /home/dsc/Data/opentraveldata/optd_aircraft.csv\n"
     ]
    }
   ],
   "source": [
    "! cat -n ~/Data/opentraveldata/optd_aircraft.csv | tail -n 1\n",
    "\n",
    "! wc -l  ~/Data/opentraveldata/optd_aircraft.csv"
   ]
  },
  {
   "cell_type": "markdown",
   "metadata": {},
   "source": [
    "_wc_ print newline, word, and byte counts for each file\n",
    "* -c, --bytes : print the byte counts\n",
    "* -m, --chars : print the character counts\n",
    "* -l, --lines : print the newline counts\n",
    "* -w, --words : print the word counts"
   ]
  },
  {
   "cell_type": "markdown",
   "metadata": {},
   "source": [
    "* How many words do first 5 lines of the ~/Data/shell/Finn.txt have?"
   ]
  },
  {
   "cell_type": "code",
   "execution_count": 55,
   "metadata": {},
   "outputs": [
    {
     "name": "stdout",
     "output_type": "stream",
     "text": [
      "﻿\n",
      "\n",
      "The Project Gutenberg EBook of Adventures of Huckleberry Finn, Complete\n",
      "by Mark Twain (Samuel Clemens)\n",
      "\n",
      "16\n"
     ]
    }
   ],
   "source": [
    "! head -5 ~/Data/shell/Finn.txt \n",
    "\n",
    "! head -5 ~/Data/shell/Finn.txt | wc -w"
   ]
  },
  {
   "cell_type": "markdown",
   "metadata": {},
   "source": [
    "<div style=\"text-align:right\">\n",
    "Juan Luis García López (@huanlui)\n",
    "<a href=\"https://github.com/huanlui\" class=\"fa fa-github\"> Github </a>\n",
    "<a href=\"https://twitter.com/huanlui\" class=\"fa fa-twitter\"> Twitter </a>\n",
    "<a href=\"https://www.linkedin.com/in/juan-luis-garcía-lópez-99057138\" class=\"fa fa-linkedin\"> Linkedin </a>\n",
    "<div>"
   ]
  }
 ],
 "metadata": {
  "kernelspec": {
   "display_name": "Python 3",
   "language": "python",
   "name": "python3"
  },
  "language_info": {
   "codemirror_mode": {
    "name": "ipython",
    "version": 3
   },
   "file_extension": ".py",
   "mimetype": "text/x-python",
   "name": "python",
   "nbconvert_exporter": "python",
   "pygments_lexer": "ipython3",
   "version": "3.6.4"
  }
 },
 "nbformat": 4,
 "nbformat_minor": 2
}
