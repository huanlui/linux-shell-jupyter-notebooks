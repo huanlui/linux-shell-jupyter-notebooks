{
 "cells": [
  {
   "cell_type": "markdown",
   "metadata": {},
   "source": [
    "# Sorting and counting utilities "
   ]
  },
  {
   "cell_type": "markdown",
   "metadata": {},
   "source": [
    "## Preparing environment "
   ]
  },
  {
   "cell_type": "markdown",
   "metadata": {},
   "source": [
    "Let's create a file with repeated lines"
   ]
  },
  {
   "cell_type": "code",
   "execution_count": 99,
   "metadata": {},
   "outputs": [
    {
     "name": "stdout",
     "output_type": "stream",
     "text": [
      "1\n",
      "3\n",
      "5\n",
      "7\n",
      "9\n",
      "\n",
      "1\n",
      "3\n",
      "5\n",
      "7\n",
      "9\n",
      "1\n",
      "2\n",
      "3\n",
      "4\n",
      "5\n",
      "6\n",
      "7\n",
      "8\n",
      "9\n",
      "10\n"
     ]
    }
   ],
   "source": [
    "! rm -f uniq_example.txt\n",
    "\n",
    "! seq 1 2 10 > uniq_example.txt\n",
    "! cat uniq_example.txt\n",
    "\n",
    "! echo \"\"\n",
    "\n",
    "! seq 1 10 >> uniq_example.txt\n",
    "! cat uniq_example.txt"
   ]
  },
  {
   "cell_type": "markdown",
   "metadata": {},
   "source": [
    "## Examples "
   ]
  },
  {
   "cell_type": "markdown",
   "metadata": {},
   "source": [
    "* Sort with -n sort numerically (by default, -d is in alphabetical order)"
   ]
  },
  {
   "cell_type": "code",
   "execution_count": 100,
   "metadata": {},
   "outputs": [
    {
     "name": "stdout",
     "output_type": "stream",
     "text": [
      "1\r\n",
      "1\r\n",
      "2\r\n",
      "3\r\n",
      "3\r\n",
      "4\r\n",
      "5\r\n",
      "5\r\n",
      "6\r\n",
      "7\r\n",
      "7\r\n",
      "8\r\n",
      "9\r\n",
      "9\r\n",
      "10\r\n"
     ]
    }
   ],
   "source": [
    "! sort -n uniq_example.txt"
   ]
  },
  {
   "cell_type": "markdown",
   "metadata": {},
   "source": [
    "* -r to reverse result"
   ]
  },
  {
   "cell_type": "code",
   "execution_count": 101,
   "metadata": {},
   "outputs": [
    {
     "name": "stdout",
     "output_type": "stream",
     "text": [
      "10\r\n",
      "9\r\n",
      "9\r\n",
      "8\r\n",
      "7\r\n",
      "7\r\n",
      "6\r\n",
      "5\r\n",
      "5\r\n",
      "4\r\n",
      "3\r\n",
      "3\r\n",
      "2\r\n",
      "1\r\n",
      "1\r\n"
     ]
    }
   ],
   "source": [
    "! sort -nr uniq_example.txt"
   ]
  },
  {
   "cell_type": "markdown",
   "metadata": {},
   "source": [
    "* We can append several files to be sorted"
   ]
  },
  {
   "cell_type": "code",
   "execution_count": 102,
   "metadata": {},
   "outputs": [
    {
     "name": "stdout",
     "output_type": "stream",
     "text": [
      "1\r\n",
      "1\r\n",
      "1\r\n",
      "1\r\n",
      "2\r\n",
      "2\r\n",
      "3\r\n",
      "3\r\n",
      "3\r\n",
      "3\r\n",
      "4\r\n",
      "4\r\n",
      "5\r\n",
      "5\r\n",
      "5\r\n",
      "5\r\n",
      "6\r\n",
      "6\r\n",
      "7\r\n",
      "7\r\n",
      "7\r\n",
      "7\r\n",
      "8\r\n",
      "8\r\n",
      "9\r\n",
      "9\r\n",
      "9\r\n",
      "9\r\n",
      "10\r\n",
      "10\r\n"
     ]
    }
   ],
   "source": [
    "! sort -n uniq_example.txt uniq_example.txt"
   ]
  },
  {
   "cell_type": "markdown",
   "metadata": {},
   "source": [
    "* -u (unique) to remove duplicates"
   ]
  },
  {
   "cell_type": "code",
   "execution_count": 103,
   "metadata": {},
   "outputs": [
    {
     "name": "stdout",
     "output_type": "stream",
     "text": [
      "1\n",
      "2\n",
      "3\n",
      "4\n",
      "5\n",
      "6\n",
      "7\n",
      "8\n",
      "9\n",
      "10\n",
      "removing uniq_example.txt\n"
     ]
    }
   ],
   "source": [
    "! sort -nu uniq_example.txt\n",
    "!rm -f uniq_example.txt ; echo removing uniq_example.txt"
   ]
  },
  {
   "cell_type": "markdown",
   "metadata": {},
   "source": [
    "* -t “d” : file has a delimiter which is “d”. White space is the delimiter by default in sort.\n",
    "* -k M[,N]=--key=M[,N] : sort field consists of part of line between M and N inclusive (or the end of the line, if N is omitted)\n",
    "* sort -t\",\" -k1,2 -k3n,3 file = sort a file based on the 1st and 2nd field, and numerically on 3rd field.\n",
    "* sort -t\",\" -k1,1 -u file = Remove duplicates from the file based on 1st fiel"
   ]
  },
  {
   "cell_type": "markdown",
   "metadata": {},
   "source": [
    "* Order by 6th, 7thh and 8th columns reverse using ^ separator"
   ]
  },
  {
   "cell_type": "code",
   "execution_count": 104,
   "metadata": {},
   "outputs": [
    {
     "name": "stdout",
     "output_type": "stream",
     "text": [
      "APF^BAe^ATP Freighter^APF^2T^ZZZZ^2^T\r\n",
      "BTA^^Business Turbo-Prop Aircraft^BTA^2T^ZZZZ^2^T\r\n",
      "351^Airbus^A350-1000^350^2J^ZZZZ^2^J\r\n",
      "358^Airbus^A350-800^350^2J^ZZZZ^2^J\r\n",
      "359^Airbus^A350-900^350^2J^ZZZZ^2^J\r\n",
      "A58^Antonov^An-158^A58^2J^ZZZZ^2^J\r\n",
      "CRF^Canadair^CRJ Freighter^CRF^2J^ZZZZ^2^J\r\n",
      "CS1^Bombardier^CSeries CS100^CSB^2J^ZZZZ^2^J\r\n",
      "CS3^Bombardier^CS300^CSB^2J^ZZZZ^2^J\r\n",
      "H20^Hawker-Beechcraft^Hawker 200^HBA^2J^ZZZZ^2^J\r\n"
     ]
    }
   ],
   "source": [
    "! sort -t \"^\" -k 6r ~/Data/opentraveldata/optd_aircraft.csv | head"
   ]
  },
  {
   "cell_type": "markdown",
   "metadata": {},
   "source": [
    "* Order just by 6th column"
   ]
  },
  {
   "cell_type": "code",
   "execution_count": 105,
   "metadata": {},
   "outputs": [
    {
     "name": "stdout",
     "output_type": "stream",
     "text": [
      "351^Airbus^A350-1000^350^2J^ZZZZ^2^J\r\n",
      "358^Airbus^A350-800^350^2J^ZZZZ^2^J\r\n",
      "359^Airbus^A350-900^350^2J^ZZZZ^2^J\r\n",
      "A58^Antonov^An-158^A58^2J^ZZZZ^2^J\r\n",
      "APF^BAe^ATP Freighter^APF^2T^ZZZZ^2^T\r\n",
      "BTA^^Business Turbo-Prop Aircraft^BTA^2T^ZZZZ^2^T\r\n",
      "CRF^Canadair^CRJ Freighter^CRF^2J^ZZZZ^2^J\r\n",
      "CS1^Bombardier^CSeries CS100^CSB^2J^ZZZZ^2^J\r\n",
      "CS3^Bombardier^CS300^CSB^2J^ZZZZ^2^J\r\n",
      "H20^Hawker-Beechcraft^Hawker 200^HBA^2J^ZZZZ^2^J\r\n"
     ]
    }
   ],
   "source": [
    "! sort -t \"^\" -k 6r,6 ~/Data/opentraveldata/optd_aircraft.csv | head"
   ]
  },
  {
   "cell_type": "markdown",
   "metadata": {},
   "source": [
    "* Sort by 2nd column and remove duplicated base on 2nd column. Eg. Note that there is just one _Airbus_ row"
   ]
  },
  {
   "cell_type": "code",
   "execution_count": 106,
   "metadata": {},
   "outputs": [
    {
     "name": "stdout",
     "output_type": "stream",
     "text": [
      "BTA^^Business Turbo-Prop Aircraft^BTA^2T^ZZZZ^2^T\r\n",
      "NDC^Aerospatiale / SNIAS^SN.601 Corvette^NDC^2J^S601^2^J\r\n",
      "AGH^Agusta / AgustaWestland^A-109^AGH^H^A109^^H\r\n",
      "AWH^AgustaWestland^AW139^AWH^2T^A139^2^T\r\n",
      "19D^Airbus^A319^^^^^\r\n",
      "L4F^Aircraft Industries (LET)^L-410 Freighter^L4F^2T^L410^2^T\r\n",
      "CS5^Airtech^CN-235^CS5^2T^CN35^2^T\r\n",
      "A22^Antonov^An-22^A22^4T^AN22^4^T\r\n",
      "A26^Antonow / Antonov^An-26^AN6^2T^AN26^2^T\r\n",
      "AT4^ATR^ATR 42-300 / 320^ATR^2T^AT43^2^T\r\n"
     ]
    }
   ],
   "source": [
    "! sort -t \"^\" -k 2,2 -u ~/Data/opentraveldata/optd_aircraft.csv | head"
   ]
  },
  {
   "cell_type": "markdown",
   "metadata": {},
   "source": [
    "## Exercises"
   ]
  },
  {
   "cell_type": "markdown",
   "metadata": {},
   "source": [
    "* Find top 10 files by size in your home direcbtory including the subdirectories. Sort them by size and print the result including the size and the name of the file (hint: use find with –size and -exec ls –s parameters)  "
   ]
  },
  {
   "cell_type": "code",
   "execution_count": 107,
   "metadata": {},
   "outputs": [
    {
     "name": "stdout",
     "output_type": "stream",
     "text": [
      "/home/dsc\n",
      "541968 ./Data/challenge/bookings.csv.bz2\n",
      "471872 ./Data/challenge/searches.csv.bz2\n",
      "189092 ./anaconda3/pkgs/mkl-2018.0.1-h19d6760_4.tar.bz2\n",
      "72644 ./anaconda3/lib/libmkl_avx512_mic.so\n",
      "72644 ./anaconda3/pkgs/mkl-2018.0.1-h19d6760_4/lib/libmkl_avx512_mic.so\n",
      "63860 ./anaconda3/lib/libmkl_avx512.so\n",
      "63860 ./anaconda3/pkgs/mkl-2018.0.1-h19d6760_4/lib/libmkl_avx512.so\n",
      "58148 ./anaconda3/bin/pandoc\n",
      "58148 ./anaconda3/pkgs/pandoc-1.19.2.1-hea2e7c5_1/bin/pandoc\n",
      "53944 ./Data/airline_tickets/sales_segments.csv.gz\n"
     ]
    }
   ],
   "source": [
    "% cd \n",
    "! find -type f -size +10000k -exec ls -s {}  \\;  | sort -k 1rn,1 | head -n 10"
   ]
  },
  {
   "cell_type": "markdown",
   "metadata": {},
   "source": [
    "*Create a dummy file with this command : seq15> 20lines.txt; seq9 1 20 >>20lines.txt; echo\"20\\n20\" >> 20lines.txt; (check the content of the file first)*"
   ]
  },
  {
   "cell_type": "code",
   "execution_count": 108,
   "metadata": {},
   "outputs": [
    {
     "name": "stdout",
     "output_type": "stream",
     "text": [
      "1\r\n",
      "2\r\n",
      "3\r\n",
      "4\r\n",
      "5\r\n",
      "6\r\n",
      "7\r\n",
      "8\r\n",
      "9\r\n",
      "10\r\n",
      "11\r\n",
      "12\r\n",
      "13\r\n",
      "14\r\n",
      "15\r\n",
      "9\r\n",
      "10\r\n",
      "11\r\n",
      "12\r\n",
      "13\r\n",
      "14\r\n",
      "15\r\n",
      "16\r\n",
      "17\r\n",
      "18\r\n",
      "19\r\n",
      "20\r\n",
      "20\r\n",
      "20\r\n"
     ]
    }
   ],
   "source": [
    "! rm -f 20lines.txt\n",
    "! seq 15 >> 20lines.txt\n",
    "! seq 9 1 20 >> 20lines.txt\n",
    "! echo \"20\\n20\" >> 20lines.txt\n",
    "! cat 20lines.txt"
   ]
  },
  {
   "cell_type": "markdown",
   "metadata": {},
   "source": [
    "* Sort the lines of file based on alphanumeric characters"
   ]
  },
  {
   "cell_type": "code",
   "execution_count": 109,
   "metadata": {},
   "outputs": [
    {
     "name": "stdout",
     "output_type": "stream",
     "text": [
      "1\r\n",
      "10\r\n",
      "10\r\n",
      "11\r\n",
      "11\r\n",
      "12\r\n",
      "12\r\n",
      "13\r\n",
      "13\r\n",
      "14\r\n",
      "14\r\n",
      "15\r\n",
      "15\r\n",
      "16\r\n",
      "17\r\n",
      "18\r\n",
      "19\r\n",
      "2\r\n",
      "20\r\n",
      "20\r\n",
      "20\r\n",
      "3\r\n",
      "4\r\n",
      "5\r\n",
      "6\r\n",
      "7\r\n",
      "8\r\n",
      "9\r\n",
      "9\r\n"
     ]
    }
   ],
   "source": [
    "! sort -d 20lines.txt"
   ]
  },
  {
   "cell_type": "markdown",
   "metadata": {},
   "source": [
    "* Sort the lines of file based on numeric values and eliminate the duplicates"
   ]
  },
  {
   "cell_type": "code",
   "execution_count": 110,
   "metadata": {},
   "outputs": [
    {
     "name": "stdout",
     "output_type": "stream",
     "text": [
      "1\r\n",
      "2\r\n",
      "3\r\n",
      "4\r\n",
      "5\r\n",
      "6\r\n",
      "7\r\n",
      "8\r\n",
      "9\r\n",
      "10\r\n",
      "11\r\n",
      "12\r\n",
      "13\r\n",
      "14\r\n",
      "15\r\n",
      "16\r\n",
      "17\r\n",
      "18\r\n",
      "19\r\n",
      "20\r\n"
     ]
    }
   ],
   "source": [
    "! sort -nu 20lines.txt"
   ]
  },
  {
   "cell_type": "markdown",
   "metadata": {},
   "source": [
    "* Print just duplicated lines of the file. Hint: unq is the only one which can print only duplicates. But it need to have them in order..."
   ]
  },
  {
   "cell_type": "code",
   "execution_count": 111,
   "metadata": {},
   "outputs": [
    {
     "name": "stdout",
     "output_type": "stream",
     "text": [
      "9\r\n",
      "10\r\n",
      "11\r\n",
      "12\r\n",
      "13\r\n",
      "14\r\n",
      "15\r\n",
      "20\r\n"
     ]
    }
   ],
   "source": [
    "! sort -n 20lines.txt | uniq -d "
   ]
  },
  {
   "cell_type": "markdown",
   "metadata": {},
   "source": [
    "* Print the line which has most repetitions"
   ]
  },
  {
   "cell_type": "code",
   "execution_count": 112,
   "metadata": {},
   "outputs": [
    {
     "name": "stdout",
     "output_type": "stream",
     "text": [
      "20\r\n"
     ]
    }
   ],
   "source": [
    "! sort -nr 20lines.txt | uniq -d | head -n 1"
   ]
  },
  {
   "cell_type": "markdown",
   "metadata": {},
   "source": [
    "* Print unique lines with the number of repetitions sorted by the number of repetitions from lowest to highest"
   ]
  },
  {
   "cell_type": "code",
   "execution_count": 113,
   "metadata": {},
   "outputs": [
    {
     "name": "stdout",
     "output_type": "stream",
     "text": [
      "      1 1\r\n",
      "      1 16\r\n",
      "      1 17\r\n",
      "      1 18\r\n",
      "      1 19\r\n",
      "      1 2\r\n",
      "      1 3\r\n",
      "      1 4\r\n",
      "      1 5\r\n",
      "      1 6\r\n",
      "      1 7\r\n",
      "      1 8\r\n",
      "      2 10\r\n",
      "      2 11\r\n",
      "      2 12\r\n",
      "      2 13\r\n",
      "      2 14\r\n",
      "      2 15\r\n",
      "      2 9\r\n",
      "      3 20\r\n"
     ]
    }
   ],
   "source": [
    "! sort -n 20lines.txt | uniq -c | sort -k 1n,1"
   ]
  },
  {
   "cell_type": "markdown",
   "metadata": {},
   "source": [
    "*Create another file with this command : seq0 2 40 > 20lines2.txt*"
   ]
  },
  {
   "cell_type": "code",
   "execution_count": 114,
   "metadata": {},
   "outputs": [
    {
     "name": "stdout",
     "output_type": "stream",
     "text": [
      "0\r\n",
      "2\r\n",
      "4\r\n",
      "6\r\n",
      "8\r\n",
      "10\r\n",
      "12\r\n",
      "14\r\n",
      "16\r\n",
      "18\r\n",
      "20\r\n",
      "22\r\n",
      "24\r\n",
      "26\r\n",
      "28\r\n",
      "30\r\n",
      "32\r\n",
      "34\r\n",
      "36\r\n",
      "38\r\n",
      "40\r\n"
     ]
    }
   ],
   "source": [
    "! rm -f 20lines2.txt\n",
    "! seq 0 2 40 > 20lines2.txt\n",
    "! cat 20lines2.txt"
   ]
  },
  {
   "cell_type": "markdown",
   "metadata": {},
   "source": [
    "* Create 3rdfile combining the first two files (20lines.txt and 20lines2.txt) but without duplicates. Hint: remember that sort can accept several files as input. "
   ]
  },
  {
   "cell_type": "code",
   "execution_count": 115,
   "metadata": {},
   "outputs": [
    {
     "name": "stdout",
     "output_type": "stream",
     "text": [
      "0\r\n",
      "1\r\n",
      "2\r\n",
      "3\r\n",
      "4\r\n",
      "5\r\n",
      "6\r\n",
      "7\r\n",
      "8\r\n",
      "9\r\n",
      "10\r\n",
      "11\r\n",
      "12\r\n",
      "13\r\n",
      "14\r\n",
      "15\r\n",
      "16\r\n",
      "17\r\n",
      "18\r\n",
      "19\r\n",
      "20\r\n",
      "22\r\n",
      "24\r\n",
      "26\r\n",
      "28\r\n",
      "30\r\n",
      "32\r\n",
      "34\r\n",
      "36\r\n",
      "38\r\n",
      "40\r\n"
     ]
    }
   ],
   "source": [
    "! rm -f other_file.txt\n",
    "! sort -n -u 20lines.txt 20lines2.txt  > other_file.txt\n",
    "! cat other_file.txt"
   ]
  },
  {
   "cell_type": "markdown",
   "metadata": {},
   "source": [
    "* Merge the content of 20lines.txt and 20lines2.txt into 40lines.txt. Print unique lines together with the number of occurrences  of 40lines.txt file and sort the line based on line content. "
   ]
  },
  {
   "cell_type": "code",
   "execution_count": 116,
   "metadata": {},
   "outputs": [
    {
     "name": "stdout",
     "output_type": "stream",
     "text": [
      "      1 0\r\n",
      "      1 1\r\n",
      "      3 10\r\n",
      "      2 11\r\n",
      "      3 12\r\n",
      "      2 13\r\n",
      "      3 14\r\n",
      "      2 15\r\n",
      "      2 16\r\n",
      "      1 17\r\n",
      "      2 18\r\n",
      "      1 19\r\n",
      "      2 2\r\n",
      "      4 20\r\n",
      "      1 22\r\n",
      "      1 24\r\n",
      "      1 26\r\n",
      "      1 28\r\n",
      "      1 3\r\n",
      "      1 30\r\n",
      "      1 32\r\n",
      "      1 34\r\n",
      "      1 36\r\n",
      "      1 38\r\n",
      "      2 4\r\n",
      "      1 40\r\n",
      "      1 5\r\n",
      "      2 6\r\n",
      "      1 7\r\n",
      "      2 8\r\n",
      "      2 9\r\n"
     ]
    }
   ],
   "source": [
    "! rm -f 40lines.txt\n",
    "! cat 20lines.txt 20lines2.txt > 40lines.txt\n",
    "\n",
    "! sort 40lines.txt | uniq -c | sort -k 2,2"
   ]
  },
  {
   "cell_type": "markdown",
   "metadata": {},
   "source": [
    "* How would you get the same result without passing through the intermediary file 40lines.txt?"
   ]
  },
  {
   "cell_type": "code",
   "execution_count": 117,
   "metadata": {},
   "outputs": [
    {
     "name": "stdout",
     "output_type": "stream",
     "text": [
      "      1 0\r\n",
      "      1 1\r\n",
      "      3 10\r\n",
      "      2 11\r\n",
      "      3 12\r\n",
      "      2 13\r\n",
      "      3 14\r\n",
      "      2 15\r\n",
      "      2 16\r\n",
      "      1 17\r\n",
      "      2 18\r\n",
      "      1 19\r\n",
      "      2 2\r\n",
      "      4 20\r\n",
      "      1 22\r\n",
      "      1 24\r\n",
      "      1 26\r\n",
      "      1 28\r\n",
      "      1 3\r\n",
      "      1 30\r\n",
      "      1 32\r\n",
      "      1 34\r\n",
      "      1 36\r\n",
      "      1 38\r\n",
      "      2 4\r\n",
      "      1 40\r\n",
      "      1 5\r\n",
      "      2 6\r\n",
      "      1 7\r\n",
      "      2 8\r\n",
      "      2 9\r\n"
     ]
    }
   ],
   "source": [
    "! sort 20lines.txt 20lines2.txt | uniq -c | sort -k 2,2"
   ]
  },
  {
   "cell_type": "markdown",
   "metadata": {},
   "source": [
    "* Go to ~/Data/opentraveldata. Get the line with the highest number of engines from optd_aircraft.csv by using sort."
   ]
  },
  {
   "cell_type": "code",
   "execution_count": 118,
   "metadata": {},
   "outputs": [
    {
     "name": "stdout",
     "output_type": "stream",
     "text": [
      "iata_code^manufacturer^model^iata_group^iata_category^icao_code^nb_engines^aircraft_type\n",
      "\n",
      "A5F^Antonov^An-225^A5F^6J^A225^6^J\n"
     ]
    }
   ],
   "source": [
    "! head -n 1 ~/Data/opentraveldata/optd_aircraft.csv ; \n",
    "\n",
    "! echo \"\"\n",
    "! sort -t \"^\" -k 7nr,7 ~/Data/opentraveldata/optd_aircraft.csv | head -1"
   ]
  },
  {
   "cell_type": "markdown",
   "metadata": {},
   "source": [
    "<div style=\"text-align:right\">\n",
    "Juan Luis García López (@huanlui)\n",
    "<a href=\"https://github.com/huanlui\" class=\"fa fa-github\"> Github </a>\n",
    "<a href=\"https://twitter.com/huanlui\" class=\"fa fa-twitter\"> Twitter </a>\n",
    "<a href=\"https://www.linkedin.com/in/juan-luis-garcía-lópez-99057138\" class=\"fa fa-linkedin\"> Linkedin </a>\n",
    "<div>"
   ]
  }
 ],
 "metadata": {
  "kernelspec": {
   "display_name": "Python 3",
   "language": "python",
   "name": "python3"
  },
  "language_info": {
   "codemirror_mode": {
    "name": "ipython",
    "version": 3
   },
   "file_extension": ".py",
   "mimetype": "text/x-python",
   "name": "python",
   "nbconvert_exporter": "python",
   "pygments_lexer": "ipython3",
   "version": "3.6.4"
  }
 },
 "nbformat": 4,
 "nbformat_minor": 2
}
