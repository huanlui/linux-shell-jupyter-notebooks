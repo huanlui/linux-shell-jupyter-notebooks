{
 "cells": [
  {
   "cell_type": "markdown",
   "metadata": {},
   "source": [
    "#  Tr commad"
   ]
  },
  {
   "cell_type": "markdown",
   "metadata": {},
   "source": [
    "## Translate or delete characters.\n",
    "SINTAX: tr[OPTION]... SET1 [SET2]"
   ]
  },
  {
   "cell_type": "code",
   "execution_count": 33,
   "metadata": {},
   "outputs": [
    {
     "name": "stdout",
     "output_type": "stream",
     "text": [
      "Juan José\r\n"
     ]
    }
   ],
   "source": [
    "! echo \"juan josé\" | tr j J"
   ]
  },
  {
   "cell_type": "code",
   "execution_count": 34,
   "metadata": {},
   "outputs": [
    {
     "name": "stdout",
     "output_type": "stream",
     "text": [
      "Juan Luis\r\n"
     ]
    }
   ],
   "source": [
    "! echo \"juan luis\" | tr jl JL"
   ]
  },
  {
   "cell_type": "markdown",
   "metadata": {},
   "source": [
    "* -s, --squeeze-repeats : replace each input sequence of a repeated character that is listed in SET1 with a single occurrence of that character"
   ]
  },
  {
   "cell_type": "code",
   "execution_count": 35,
   "metadata": {},
   "outputs": [
    {
     "name": "stdout",
     "output_type": "stream",
     "text": [
      "juan luis\r\n"
     ]
    }
   ],
   "source": [
    "! echo \"jjjjjjuan llllllllluis\" | tr -s jl"
   ]
  },
  {
   "cell_type": "code",
   "execution_count": 36,
   "metadata": {},
   "outputs": [
    {
     "name": "stdout",
     "output_type": "stream",
     "text": [
      "Juan Luis\r\n"
     ]
    }
   ],
   "source": [
    "! echo \"jjjjjjuan llllllllluis\" | tr -s jl JL"
   ]
  },
  {
   "cell_type": "markdown",
   "metadata": {},
   "source": [
    "* -d, --delete : delete characters in SET1, do not translate"
   ]
  },
  {
   "cell_type": "code",
   "execution_count": 37,
   "metadata": {},
   "outputs": [
    {
     "name": "stdout",
     "output_type": "stream",
     "text": [
      "Juan Luis\r\n"
     ]
    }
   ],
   "source": [
    "! echo 'J%ua&n L$uis' | tr -d '%&$'"
   ]
  },
  {
   "cell_type": "markdown",
   "metadata": {},
   "source": [
    "Note that I used single command because with double ones,\"$uis\" is interpreted as an attemp to read variable \"uis\""
   ]
  },
  {
   "cell_type": "markdown",
   "metadata": {},
   "source": [
    "* -c : keep just the characters set with -d option. It does the inverse as previous. "
   ]
  },
  {
   "cell_type": "code",
   "execution_count": 38,
   "metadata": {},
   "outputs": [
    {
     "name": "stdout",
     "output_type": "stream",
     "text": [
      "%&$"
     ]
    }
   ],
   "source": [
    "! echo 'J%ua&n L$uis' | tr -dc '%&$'"
   ]
  },
  {
   "cell_type": "markdown",
   "metadata": {},
   "source": [
    "## tr–Can be used with predefined classes of characters"
   ]
  },
  {
   "cell_type": "markdown",
   "metadata": {},
   "source": [
    "* [:alnum:]  all letters and digits "
   ]
  },
  {
   "cell_type": "code",
   "execution_count": 39,
   "metadata": {},
   "outputs": [
    {
     "name": "stdout",
     "output_type": "stream",
     "text": [
      "___$___\r\n"
     ]
    }
   ],
   "source": [
    "! echo 'abc$123' | tr '[:alnum:]' '_'"
   ]
  },
  {
   "cell_type": "code",
   "execution_count": 40,
   "metadata": {},
   "outputs": [
    {
     "name": "stdout",
     "output_type": "stream",
     "text": [
      "$\r\n"
     ]
    }
   ],
   "source": [
    "! echo 'abc$123' | tr -d '[:alnum:]'"
   ]
  },
  {
   "cell_type": "code",
   "execution_count": 41,
   "metadata": {},
   "outputs": [
    {
     "name": "stdout",
     "output_type": "stream",
     "text": [
      "abc123"
     ]
    }
   ],
   "source": [
    "! echo 'abc$123' | tr -dc '[:alnum:]'"
   ]
  },
  {
   "cell_type": "code",
   "execution_count": 42,
   "metadata": {},
   "outputs": [
    {
     "name": "stdout",
     "output_type": "stream",
     "text": [
      "abc$$$$123\r\n"
     ]
    }
   ],
   "source": [
    "! echo 'aaaabc$$$$1233333' | tr -s '[:alnum:]'"
   ]
  },
  {
   "cell_type": "markdown",
   "metadata": {},
   "source": [
    "* [:alpha:]  all letters "
   ]
  },
  {
   "cell_type": "code",
   "execution_count": 43,
   "metadata": {},
   "outputs": [
    {
     "name": "stdout",
     "output_type": "stream",
     "text": [
      "___$123\r\n"
     ]
    }
   ],
   "source": [
    "! echo 'abc$123' | tr '[:alpha:]' '_'"
   ]
  },
  {
   "cell_type": "markdown",
   "metadata": {},
   "source": [
    "* [:blank:]  white spaces"
   ]
  },
  {
   "cell_type": "code",
   "execution_count": 44,
   "metadata": {},
   "outputs": [
    {
     "name": "stdout",
     "output_type": "stream",
     "text": [
      "125abd$\r\n"
     ]
    }
   ],
   "source": [
    "! echo '1 2    5 a b      d $ ' | tr -d '[:blank:]'"
   ]
  },
  {
   "cell_type": "markdown",
   "metadata": {},
   "source": [
    "* [:digit:]  all digits"
   ]
  },
  {
   "cell_type": "code",
   "execution_count": 45,
   "metadata": {},
   "outputs": [
    {
     "name": "stdout",
     "output_type": "stream",
     "text": [
      "abc$___\r\n"
     ]
    }
   ],
   "source": [
    "! echo 'abc$123' | tr '[:digit:]' '_'"
   ]
  },
  {
   "cell_type": "markdown",
   "metadata": {},
   "source": [
    "* [:lower:] all lower case letters"
   ]
  },
  {
   "cell_type": "code",
   "execution_count": 46,
   "metadata": {},
   "outputs": [
    {
     "name": "stdout",
     "output_type": "stream",
     "text": [
      "___ABC%123\r\n"
     ]
    }
   ],
   "source": [
    "! echo 'abcABC%123' | tr '[:lower:]' '_'"
   ]
  },
  {
   "cell_type": "markdown",
   "metadata": {},
   "source": [
    "* [:upper:] all upper case letters"
   ]
  },
  {
   "cell_type": "code",
   "execution_count": 47,
   "metadata": {},
   "outputs": [
    {
     "name": "stdout",
     "output_type": "stream",
     "text": [
      "abc^^^%123\r\n"
     ]
    }
   ],
   "source": [
    "! echo 'abcABC%123' | tr '[:upper:]' '^'"
   ]
  },
  {
   "cell_type": "markdown",
   "metadata": {},
   "source": [
    "<div style=\"text-align:right\">\n",
    "Juan Luis García López (@huanlui)\n",
    "<a href=\"https://github.com/huanlui\" class=\"fa fa-github\"> Github </a>\n",
    "<a href=\"https://twitter.com/huanlui\" class=\"fa fa-twitter\"> Twitter </a>\n",
    "<a href=\"https://www.linkedin.com/in/juan-luis-garcía-lópez-99057138\" class=\"fa fa-linkedin\"> Linkedin </a>\n",
    "<div>\n",
    "    "
   ]
  }
 ],
 "metadata": {
  "kernelspec": {
   "display_name": "Python 3",
   "language": "python",
   "name": "python3"
  },
  "language_info": {
   "codemirror_mode": {
    "name": "ipython",
    "version": 3
   },
   "file_extension": ".py",
   "mimetype": "text/x-python",
   "name": "python",
   "nbconvert_exporter": "python",
   "pygments_lexer": "ipython3",
   "version": "3.6.4"
  }
 },
 "nbformat": 4,
 "nbformat_minor": 2
}
