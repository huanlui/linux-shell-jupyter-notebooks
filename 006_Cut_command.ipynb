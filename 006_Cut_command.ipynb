{
 "cells": [
  {
   "cell_type": "markdown",
   "metadata": {},
   "source": [
    "#  Cut "
   ]
  },
  {
   "cell_type": "markdown",
   "metadata": {},
   "source": [
    "Comman to slice lines, that is, to select some columns from them.\n",
    "\n",
    "* -d, --delimiter=DELIM : use DELIM instead of TAB for field delimiter\n",
    "* -f, --fields=LIST : select only these fields;  \n",
    "* --output-delimiter=STRING : use STRING as the output delimiter the default is to use the input delimiter\n",
    "\n"
   ]
  },
  {
   "cell_type": "markdown",
   "metadata": {},
   "source": [
    "* Select files 1,2,3 and 5 using ^ delimiter."
   ]
  },
  {
   "cell_type": "code",
   "execution_count": 22,
   "metadata": {},
   "outputs": [
    {
     "name": "stdout",
     "output_type": "stream",
     "text": [
      "/home/dsc/Data/opentraveldata\n",
      "iata_code^manufacturer^model^iata_category\r\n",
      "100^Fokker^100^2J\r\n",
      "141^BAe^146-100^4J\r\n",
      "142^BAe^BAE Systems 146-200 Passenger^4J\r\n",
      "143^BAe^146-300^4J\r\n",
      "146^BAe^146^\r\n",
      "14F^BAe^146 Freighter (-100/200/300QT & QC)^\r\n",
      "14X^BAe^146 Freighter (-100QT & QC)^4J\r\n",
      "14Y^BAe^146 Freighter (-200QT & QC)^4J\r\n",
      "14Z^BAe^146 Freighter (-300QT & QC)^4J\r\n"
     ]
    }
   ],
   "source": [
    "% cd ~/Data/opentraveldata\n",
    "\n",
    "! cut -d \"^\" -f 1-3,5 optd_aircraft.csv | head -n 10"
   ]
  },
  {
   "cell_type": "markdown",
   "metadata": {},
   "source": [
    "* Do the  same but using \",\" as output delimiter."
   ]
  },
  {
   "cell_type": "code",
   "execution_count": 23,
   "metadata": {},
   "outputs": [
    {
     "name": "stdout",
     "output_type": "stream",
     "text": [
      "/home/dsc/Data/opentraveldata\n",
      "iata_code,manufacturer,model,iata_category\r\n",
      "100,Fokker,100,2J\r\n",
      "141,BAe,146-100,4J\r\n",
      "142,BAe,BAE Systems 146-200 Passenger,4J\r\n",
      "143,BAe,146-300,4J\r\n",
      "146,BAe,146,\r\n",
      "14F,BAe,146 Freighter (-100/200/300QT & QC),\r\n",
      "14X,BAe,146 Freighter (-100QT & QC),4J\r\n",
      "14Y,BAe,146 Freighter (-200QT & QC),4J\r\n",
      "14Z,BAe,146 Freighter (-300QT & QC),4J\r\n",
      "cut: write error: Broken pipe\r\n"
     ]
    }
   ],
   "source": [
    "% cd ~/Data/opentraveldata\n",
    "\n",
    "! cut -d \"^\" -f 1-3,5 --output-delimiter=\",\" optd_aircraft.csv | head -n 10"
   ]
  },
  {
   "cell_type": "markdown",
   "metadata": {},
   "source": [
    "<div style=\"text-align:right\">\n",
    "Juan Luis García López (@huanlui)\n",
    "<a href=\"https://github.com/huanlui\" class=\"fa fa-github\"> Github </a>\n",
    "<a href=\"https://twitter.com/huanlui\" class=\"fa fa-twitter\"> Twitter </a>\n",
    "<a href=\"https://www.linkedin.com/in/juan-luis-garcía-lópez-99057138\" class=\"fa fa-linkedin\"> Linkedin </a>\n",
    "<div>"
   ]
  }
 ],
 "metadata": {
  "kernelspec": {
   "display_name": "Python 3",
   "language": "python",
   "name": "python3"
  },
  "language_info": {
   "codemirror_mode": {
    "name": "ipython",
    "version": 3
   },
   "file_extension": ".py",
   "mimetype": "text/x-python",
   "name": "python",
   "nbconvert_exporter": "python",
   "pygments_lexer": "ipython3",
   "version": "3.6.4"
  }
 },
 "nbformat": 4,
 "nbformat_minor": 2
}
