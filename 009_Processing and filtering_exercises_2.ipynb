{
 "cells": [
  {
   "cell_type": "markdown",
   "metadata": {},
   "source": [
    "# Processing and filtering exercises"
   ]
  },
  {
   "cell_type": "markdown",
   "metadata": {},
   "source": [
    "Go to ~/Data/opentraveldata. Note tha file has 8 columns."
   ]
  },
  {
   "cell_type": "code",
   "execution_count": 33,
   "metadata": {},
   "outputs": [
    {
     "name": "stdout",
     "output_type": "stream",
     "text": [
      "/home/dsc/Data/opentraveldata\n",
      "iata_code^manufacturer^model^iata_group^iata_category^icao_code^nb_engines^aircraft_type\r\n"
     ]
    }
   ],
   "source": [
    "% cd ~/Data/opentraveldata\n",
    "! head -n 1 optd_aircraft.csv\n"
   ]
  },
  {
   "cell_type": "markdown",
   "metadata": {},
   "source": [
    "*. Change the delimiter of optd_aircraft.csv to “,”"
   ]
  },
  {
   "cell_type": "code",
   "execution_count": 34,
   "metadata": {},
   "outputs": [
    {
     "name": "stdout",
     "output_type": "stream",
     "text": [
      "iata_code,manufacturer,model,iata_group,iata_category,icao_code,nb_engines,aircraft_type\r\n",
      "100,Fokker,100,100,2J,F100,2,J\r\n",
      "141,BAe,146-100,146,4J,B461,4,J\r\n",
      "142,BAe,BAE Systems 146-200 Passenger,146,4J,B462,4,J\r\n",
      "143,BAe,146-300,146,4J,B463,4,J\r\n",
      "146,BAe,146,,,,,\r\n",
      "14F,BAe,146 Freighter (-100/200/300QT & QC),,,,,\r\n",
      "14X,BAe,146 Freighter (-100QT & QC),14F,4J,B461,4,J\r\n",
      "14Y,BAe,146 Freighter (-200QT & QC),14F,4J,B462,4,J\r\n",
      "14Z,BAe,146 Freighter (-300QT & QC),14F,4J,B463,4,J\r\n",
      "cut: write error: Broken pipe\r\n"
     ]
    }
   ],
   "source": [
    "! cut -f 1-8 -d \"^\" --output-delimiter \",\" optd_aircraft.csv | head -n 10"
   ]
  },
  {
   "cell_type": "markdown",
   "metadata": {},
   "source": [
    "*. Check if optd_por_public.csv has repeated white spaces (hint: use trwith wc). It last too much. I checked in 100 first lines"
   ]
  },
  {
   "cell_type": "code",
   "execution_count": 35,
   "metadata": {},
   "outputs": [
    {
     "name": "stdout",
     "output_type": "stream",
     "text": [
      "Number of characters in original file:\n",
      "436279\n",
      "Number of characters in original file squeezing repeated white spaces:\n",
      "436279\n"
     ]
    }
   ],
   "source": [
    "! echo \"Number of characters in original file:\"\n",
    "! head -n 1000 optd_por_public.csv | wc -m \n",
    "\n",
    "! echo \"Number of characters in original file squeezing repeated white spaces:\"\n",
    "! head -n 1000 optd_por_public.csv | tr -s ' ' | wc -m"
   ]
  },
  {
   "cell_type": "markdown",
   "metadata": {},
   "source": [
    "* How many columns has optd_por_public.csv? (hint: use head and tr)"
   ]
  },
  {
   "cell_type": "code",
   "execution_count": 39,
   "metadata": {},
   "outputs": [
    {
     "name": "stdout",
     "output_type": "stream",
     "text": [
      "iata_code^icao_code^faa_code^is_geonames^geoname_id^envelope_id^name^asciiname^latitude^longitude^fclass^fcode^page_rank^date_from^date_until^comment^country_code^cc2^country_name^continent_name^adm1_code^adm1_name_utf^adm1_name_ascii^adm2_code^adm2_name_utf^adm2_name_ascii^adm3_code^adm4_code^population^elevation^gtopo30^timezone^gmt_offset^dst_offset^raw_offset^moddate^city_code_list^city_name_list^city_detail_list^tvl_por_list^state_code^location_type^wiki_link^alt_name_section^wac^wac_name\n",
      "\n",
      "Is has \n",
      "45\n",
      "+ 1 colums\n"
     ]
    }
   ],
   "source": [
    "! head -n 1 optd_por_public.csv\n",
    "! echo \"\\nIs has \"\n",
    "! head -n 1 optd_por_public.csv | tr -cd \"^\" | wc -m\n",
    "! echo \"+ 1 colums\""
   ]
  },
  {
   "cell_type": "markdown",
   "metadata": {},
   "source": [
    "* Print column names of optd_por_public.csv  together with their column number. (hint: use paste)"
   ]
  },
  {
   "cell_type": "markdown",
   "metadata": {},
   "source": [
    "The solution is (parse does not work in notebook...)\n",
    "\n",
    "```shell\n",
    "paste <(seq 46) <(head -n 1 optd_por_public.csv | tr \"^\" \"\\n\")\n",
    "```"
   ]
  },
  {
   "cell_type": "markdown",
   "metadata": {},
   "source": [
    "* Use optd_airlines.csv to obtain the airline with the most flights?. Hunt: name column is 8th and number of flights 14th "
   ]
  },
  {
   "cell_type": "code",
   "execution_count": 37,
   "metadata": {},
   "outputs": [
    {
     "name": "stdout",
     "output_type": "stream",
     "text": [
      "Jetstar\r\n"
     ]
    }
   ],
   "source": [
    " ! tail -n +2 optd_airlines.csv | cut -d \"^\" -f 8,14 | sort -t \"^\" -k 2r | head -n 1 | cut -d \"^\" -f 1"
   ]
  },
  {
   "cell_type": "markdown",
   "metadata": {},
   "source": [
    "* Use optd_airlines.csv to obtain number of airlines in each alliance?. Hint: the alliance is in the 10th colum"
   ]
  },
  {
   "cell_type": "code",
   "execution_count": 38,
   "metadata": {},
   "outputs": [
    {
     "name": "stdout",
     "output_type": "stream",
     "text": [
      "   1158 \r\n",
      "      1 alliance_code\r\n",
      "     37 OneWorld\r\n",
      "     25 Skyteam\r\n",
      "     33 Star Alliance\r\n"
     ]
    }
   ],
   "source": [
    "! cut -d \"^\" -f 10 optd_airlines.csv | sort | uniq -c"
   ]
  },
  {
   "cell_type": "markdown",
   "metadata": {},
   "source": [
    "<div style=\"text-align:right\">\n",
    "Juan Luis García López (@huanlui)\n",
    "<a href=\"https://github.com/huanlui\" class=\"fa fa-github\"> Github </a>\n",
    "<a href=\"https://twitter.com/huanlui\" class=\"fa fa-twitter\"> Twitter </a>\n",
    "<a href=\"https://www.linkedin.com/in/juan-luis-garcía-lópez-99057138\" class=\"fa fa-linkedin\"> Linkedin </a>\n",
    "<div>"
   ]
  }
 ],
 "metadata": {
  "kernelspec": {
   "display_name": "Python 3",
   "language": "python",
   "name": "python3"
  },
  "language_info": {
   "codemirror_mode": {
    "name": "ipython",
    "version": 3
   },
   "file_extension": ".py",
   "mimetype": "text/x-python",
   "name": "python",
   "nbconvert_exporter": "python",
   "pygments_lexer": "ipython3",
   "version": "3.6.4"
  }
 },
 "nbformat": 4,
 "nbformat_minor": 2
}
